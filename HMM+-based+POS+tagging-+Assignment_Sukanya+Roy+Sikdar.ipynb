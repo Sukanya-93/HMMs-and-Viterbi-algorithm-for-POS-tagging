{
 "cells": [
  {
   "cell_type": "markdown",
   "metadata": {},
   "source": [
    "## POS tagging using modified Viterbi"
   ]
  },
  {
   "cell_type": "markdown",
   "metadata": {},
   "source": [
    "### Data Preparation"
   ]
  },
  {
   "cell_type": "code",
   "execution_count": 1,
   "metadata": {},
   "outputs": [],
   "source": [
    "#Importing the required libraries\n",
    "import nltk, re, pprint\n",
    "import numpy as np\n",
    "import pandas as pd\n",
    "import requests\n",
    "import matplotlib.pyplot as plt\n",
    "import seaborn as sns\n",
    "import pprint, time\n",
    "import random\n",
    "from sklearn.model_selection import train_test_split\n",
    "from nltk.tokenize import word_tokenize"
   ]
  },
  {
   "cell_type": "code",
   "execution_count": 2,
   "metadata": {},
   "outputs": [],
   "source": [
    "#Reading the Treebank tagged sentences\n",
    "nltk_data = list(nltk.corpus.treebank.tagged_sents(tagset='universal'))"
   ]
  },
  {
   "cell_type": "code",
   "execution_count": 3,
   "metadata": {},
   "outputs": [
    {
     "name": "stdout",
     "output_type": "stream",
     "text": [
      "[[('Pierre', 'NOUN'), ('Vinken', 'NOUN'), (',', '.'), ('61', 'NUM'), ('years', 'NOUN'), ('old', 'ADJ'), (',', '.'), ('will', 'VERB'), ('join', 'VERB'), ('the', 'DET'), ('board', 'NOUN'), ('as', 'ADP'), ('a', 'DET'), ('nonexecutive', 'ADJ'), ('director', 'NOUN'), ('Nov.', 'NOUN'), ('29', 'NUM'), ('.', '.')], [('Mr.', 'NOUN'), ('Vinken', 'NOUN'), ('is', 'VERB'), ('chairman', 'NOUN'), ('of', 'ADP'), ('Elsevier', 'NOUN'), ('N.V.', 'NOUN'), (',', '.'), ('the', 'DET'), ('Dutch', 'NOUN'), ('publishing', 'VERB'), ('group', 'NOUN'), ('.', '.')], [('Rudolph', 'NOUN'), ('Agnew', 'NOUN'), (',', '.'), ('55', 'NUM'), ('years', 'NOUN'), ('old', 'ADJ'), ('and', 'CONJ'), ('former', 'ADJ'), ('chairman', 'NOUN'), ('of', 'ADP'), ('Consolidated', 'NOUN'), ('Gold', 'NOUN'), ('Fields', 'NOUN'), ('PLC', 'NOUN'), (',', '.'), ('was', 'VERB'), ('named', 'VERB'), ('*-1', 'X'), ('a', 'DET'), ('nonexecutive', 'ADJ'), ('director', 'NOUN'), ('of', 'ADP'), ('this', 'DET'), ('British', 'ADJ'), ('industrial', 'ADJ'), ('conglomerate', 'NOUN'), ('.', '.')], [('A', 'DET'), ('form', 'NOUN'), ('of', 'ADP'), ('asbestos', 'NOUN'), ('once', 'ADV'), ('used', 'VERB'), ('*', 'X'), ('*', 'X'), ('to', 'PRT'), ('make', 'VERB'), ('Kent', 'NOUN'), ('cigarette', 'NOUN'), ('filters', 'NOUN'), ('has', 'VERB'), ('caused', 'VERB'), ('a', 'DET'), ('high', 'ADJ'), ('percentage', 'NOUN'), ('of', 'ADP'), ('cancer', 'NOUN'), ('deaths', 'NOUN'), ('among', 'ADP'), ('a', 'DET'), ('group', 'NOUN'), ('of', 'ADP'), ('workers', 'NOUN'), ('exposed', 'VERB'), ('*', 'X'), ('to', 'PRT'), ('it', 'PRON'), ('more', 'ADV'), ('than', 'ADP'), ('30', 'NUM'), ('years', 'NOUN'), ('ago', 'ADP'), (',', '.'), ('researchers', 'NOUN'), ('reported', 'VERB'), ('0', 'X'), ('*T*-1', 'X'), ('.', '.')], [('The', 'DET'), ('asbestos', 'NOUN'), ('fiber', 'NOUN'), (',', '.'), ('crocidolite', 'NOUN'), (',', '.'), ('is', 'VERB'), ('unusually', 'ADV'), ('resilient', 'ADJ'), ('once', 'ADP'), ('it', 'PRON'), ('enters', 'VERB'), ('the', 'DET'), ('lungs', 'NOUN'), (',', '.'), ('with', 'ADP'), ('even', 'ADV'), ('brief', 'ADJ'), ('exposures', 'NOUN'), ('to', 'PRT'), ('it', 'PRON'), ('causing', 'VERB'), ('symptoms', 'NOUN'), ('that', 'DET'), ('*T*-1', 'X'), ('show', 'VERB'), ('up', 'PRT'), ('decades', 'NOUN'), ('later', 'ADJ'), (',', '.'), ('researchers', 'NOUN'), ('said', 'VERB'), ('0', 'X'), ('*T*-2', 'X'), ('.', '.')], [('Lorillard', 'NOUN'), ('Inc.', 'NOUN'), (',', '.'), ('the', 'DET'), ('unit', 'NOUN'), ('of', 'ADP'), ('New', 'ADJ'), ('York-based', 'ADJ'), ('Loews', 'NOUN'), ('Corp.', 'NOUN'), ('that', 'DET'), ('*T*-2', 'X'), ('makes', 'VERB'), ('Kent', 'NOUN'), ('cigarettes', 'NOUN'), (',', '.'), ('stopped', 'VERB'), ('using', 'VERB'), ('crocidolite', 'NOUN'), ('in', 'ADP'), ('its', 'PRON'), ('Micronite', 'NOUN'), ('cigarette', 'NOUN'), ('filters', 'NOUN'), ('in', 'ADP'), ('1956', 'NUM'), ('.', '.')], [('Although', 'ADP'), ('preliminary', 'ADJ'), ('findings', 'NOUN'), ('were', 'VERB'), ('reported', 'VERB'), ('*-2', 'X'), ('more', 'ADV'), ('than', 'ADP'), ('a', 'DET'), ('year', 'NOUN'), ('ago', 'ADP'), (',', '.'), ('the', 'DET'), ('latest', 'ADJ'), ('results', 'NOUN'), ('appear', 'VERB'), ('in', 'ADP'), ('today', 'NOUN'), (\"'s\", 'PRT'), ('New', 'NOUN'), ('England', 'NOUN'), ('Journal', 'NOUN'), ('of', 'ADP'), ('Medicine', 'NOUN'), (',', '.'), ('a', 'DET'), ('forum', 'NOUN'), ('likely', 'ADJ'), ('*', 'X'), ('to', 'PRT'), ('bring', 'VERB'), ('new', 'ADJ'), ('attention', 'NOUN'), ('to', 'PRT'), ('the', 'DET'), ('problem', 'NOUN'), ('.', '.')], [('A', 'DET'), ('Lorillard', 'NOUN'), ('spokewoman', 'NOUN'), ('said', 'VERB'), (',', '.'), ('``', '.'), ('This', 'DET'), ('is', 'VERB'), ('an', 'DET'), ('old', 'ADJ'), ('story', 'NOUN'), ('.', '.')], [('We', 'PRON'), (\"'re\", 'VERB'), ('talking', 'VERB'), ('about', 'ADP'), ('years', 'NOUN'), ('ago', 'ADP'), ('before', 'ADP'), ('anyone', 'NOUN'), ('heard', 'VERB'), ('of', 'ADP'), ('asbestos', 'NOUN'), ('having', 'VERB'), ('any', 'DET'), ('questionable', 'ADJ'), ('properties', 'NOUN'), ('.', '.')], [('There', 'DET'), ('is', 'VERB'), ('no', 'DET'), ('asbestos', 'NOUN'), ('in', 'ADP'), ('our', 'PRON'), ('products', 'NOUN'), ('now', 'ADV'), ('.', '.'), (\"''\", '.')], [('Neither', 'DET'), ('Lorillard', 'NOUN'), ('nor', 'CONJ'), ('the', 'DET'), ('researchers', 'NOUN'), ('who', 'PRON'), ('*T*-3', 'X'), ('studied', 'VERB'), ('the', 'DET'), ('workers', 'NOUN'), ('were', 'VERB'), ('aware', 'ADJ'), ('of', 'ADP'), ('any', 'DET'), ('research', 'NOUN'), ('on', 'ADP'), ('smokers', 'NOUN'), ('of', 'ADP'), ('the', 'DET'), ('Kent', 'NOUN'), ('cigarettes', 'NOUN'), ('.', '.')], [('``', '.'), ('We', 'PRON'), ('have', 'VERB'), ('no', 'DET'), ('useful', 'ADJ'), ('information', 'NOUN'), ('on', 'ADP'), ('whether', 'ADP'), ('users', 'NOUN'), ('are', 'VERB'), ('at', 'ADP'), ('risk', 'NOUN'), (',', '.'), (\"''\", '.'), ('said', 'VERB'), ('*T*-1', 'X'), ('James', 'NOUN'), ('A.', 'NOUN'), ('Talcott', 'NOUN'), ('of', 'ADP'), ('Boston', 'NOUN'), (\"'s\", 'PRT'), ('Dana-Farber', 'NOUN'), ('Cancer', 'NOUN'), ('Institute', 'NOUN'), ('.', '.')], [('Dr.', 'NOUN'), ('Talcott', 'NOUN'), ('led', 'VERB'), ('a', 'DET'), ('team', 'NOUN'), ('of', 'ADP'), ('researchers', 'NOUN'), ('from', 'ADP'), ('the', 'DET'), ('National', 'NOUN'), ('Cancer', 'NOUN'), ('Institute', 'NOUN'), ('and', 'CONJ'), ('the', 'DET'), ('medical', 'ADJ'), ('schools', 'NOUN'), ('of', 'ADP'), ('Harvard', 'NOUN'), ('University', 'NOUN'), ('and', 'CONJ'), ('Boston', 'NOUN'), ('University', 'NOUN'), ('.', '.')], [('The', 'DET'), ('Lorillard', 'NOUN'), ('spokeswoman', 'NOUN'), ('said', 'VERB'), ('0', 'X'), ('asbestos', 'NOUN'), ('was', 'VERB'), ('used', 'VERB'), ('*-1', 'X'), ('in', 'ADP'), ('``', '.'), ('very', 'ADV'), ('modest', 'ADJ'), ('amounts', 'NOUN'), (\"''\", '.'), ('in', 'ADP'), ('*', 'X'), ('making', 'VERB'), ('paper', 'NOUN'), ('for', 'ADP'), ('the', 'DET'), ('filters', 'NOUN'), ('in', 'ADP'), ('the', 'DET'), ('early', 'ADJ'), ('1950s', 'NUM'), ('and', 'CONJ'), ('replaced', 'VERB'), ('*-1', 'X'), ('with', 'ADP'), ('a', 'DET'), ('different', 'ADJ'), ('type', 'NOUN'), ('of', 'ADP'), ('filter', 'NOUN'), ('in', 'ADP'), ('1956', 'NUM'), ('.', '.')], [('From', 'ADP'), ('1953', 'NUM'), ('to', 'PRT'), ('1955', 'NUM'), (',', '.'), ('9.8', 'NUM'), ('billion', 'NUM'), ('Kent', 'NOUN'), ('cigarettes', 'NOUN'), ('with', 'ADP'), ('the', 'DET'), ('filters', 'NOUN'), ('were', 'VERB'), ('sold', 'VERB'), ('*-3', 'X'), (',', '.'), ('the', 'DET'), ('company', 'NOUN'), ('said', 'VERB'), ('0', 'X'), ('*T*-1', 'X'), ('.', '.')], [('Among', 'ADP'), ('33', 'NUM'), ('men', 'NOUN'), ('who', 'PRON'), ('*T*-4', 'X'), ('worked', 'VERB'), ('closely', 'ADV'), ('with', 'ADP'), ('the', 'DET'), ('substance', 'NOUN'), (',', '.'), ('28', 'NUM'), ('*ICH*-1', 'X'), ('have', 'VERB'), ('died', 'VERB'), ('--', '.'), ('more', 'ADJ'), ('than', 'ADP'), ('three', 'NUM'), ('times', 'NOUN'), ('the', 'DET'), ('expected', 'VERB'), ('number', 'NOUN'), ('.', '.')], [('Four', 'NUM'), ('of', 'ADP'), ('the', 'DET'), ('five', 'NUM'), ('surviving', 'VERB'), ('workers', 'NOUN'), ('have', 'VERB'), ('asbestos-related', 'ADJ'), ('diseases', 'NOUN'), (',', '.'), ('including', 'VERB'), ('three', 'NUM'), ('with', 'ADP'), ('recently', 'ADV'), ('diagnosed', 'VERB'), ('cancer', 'NOUN'), ('.', '.')], [('The', 'DET'), ('total', 'NOUN'), ('of', 'ADP'), ('18', 'NUM'), ('deaths', 'NOUN'), ('from', 'ADP'), ('malignant', 'ADJ'), ('mesothelioma', 'NOUN'), (',', '.'), ('lung', 'NOUN'), ('cancer', 'NOUN'), ('and', 'CONJ'), ('asbestosis', 'NOUN'), ('was', 'VERB'), ('far', 'ADV'), ('higher', 'ADJ'), ('than', 'ADP'), ('*', 'X'), ('expected', 'VERB'), ('*?*', 'X'), (',', '.'), ('the', 'DET'), ('researchers', 'NOUN'), ('said', 'VERB'), ('0', 'X'), ('*T*-1', 'X'), ('.', '.')], [('``', '.'), ('The', 'DET'), ('morbidity', 'NOUN'), ('rate', 'NOUN'), ('is', 'VERB'), ('a', 'DET'), ('striking', 'ADJ'), ('finding', 'NOUN'), ('among', 'ADP'), ('those', 'DET'), ('of', 'ADP'), ('us', 'PRON'), ('who', 'PRON'), ('*T*-5', 'X'), ('study', 'VERB'), ('asbestos-related', 'ADJ'), ('diseases', 'NOUN'), (',', '.'), (\"''\", '.'), ('said', 'VERB'), ('*T*-1', 'X'), ('Dr.', 'NOUN'), ('Talcott', 'NOUN'), ('.', '.')], [('The', 'DET'), ('percentage', 'NOUN'), ('of', 'ADP'), ('lung', 'NOUN'), ('cancer', 'NOUN'), ('deaths', 'NOUN'), ('among', 'ADP'), ('the', 'DET'), ('workers', 'NOUN'), ('at', 'ADP'), ('the', 'DET'), ('West', 'NOUN'), ('Groton', 'NOUN'), (',', '.'), ('Mass.', 'NOUN'), (',', '.'), ('paper', 'NOUN'), ('factory', 'NOUN'), ('appears', 'VERB'), ('*-1', 'X'), ('to', 'PRT'), ('be', 'VERB'), ('the', 'DET'), ('highest', 'ADJ'), ('for', 'ADP'), ('any', 'DET'), ('asbestos', 'NOUN'), ('workers', 'NOUN'), ('studied', 'VERB'), ('*', 'X'), ('in', 'ADP'), ('Western', 'ADJ'), ('industrialized', 'VERB'), ('countries', 'NOUN'), (',', '.'), ('he', 'PRON'), ('said', 'VERB'), ('0', 'X'), ('*T*-2', 'X'), ('.', '.')], [('The', 'DET'), ('plant', 'NOUN'), (',', '.'), ('which', 'DET'), ('*T*-1', 'X'), ('is', 'VERB'), ('owned', 'VERB'), ('*-4', 'X'), ('by', 'ADP'), ('Hollingsworth', 'NOUN'), ('&', 'CONJ'), ('Vose', 'NOUN'), ('Co.', 'NOUN'), (',', '.'), ('was', 'VERB'), ('under', 'ADP'), ('contract', 'NOUN'), ('*ICH*-2', 'X'), ('with', 'ADP'), ('Lorillard', 'NOUN'), ('*', 'X'), ('to', 'PRT'), ('make', 'VERB'), ('the', 'DET'), ('cigarette', 'NOUN'), ('filters', 'NOUN'), ('.', '.')], [('The', 'DET'), ('finding', 'NOUN'), ('probably', 'ADV'), ('will', 'VERB'), ('support', 'VERB'), ('those', 'DET'), ('who', 'PRON'), ('*T*-6', 'X'), ('argue', 'VERB'), ('that', 'ADP'), ('the', 'DET'), ('U.S.', 'NOUN'), ('should', 'VERB'), ('regulate', 'VERB'), ('the', 'DET'), ('class', 'NOUN'), ('of', 'ADP'), ('asbestos', 'NOUN'), ('including', 'VERB'), ('crocidolite', 'NOUN'), ('more', 'ADV'), ('stringently', 'ADV'), ('than', 'ADP'), ('the', 'DET'), ('common', 'ADJ'), ('kind', 'NOUN'), ('of', 'ADP'), ('asbestos', 'NOUN'), (',', '.'), ('chrysotile', 'NOUN'), (',', '.'), ('found', 'VERB'), ('*', 'X'), ('in', 'ADP'), ('most', 'ADJ'), ('schools', 'NOUN'), ('and', 'CONJ'), ('other', 'ADJ'), ('buildings', 'NOUN'), (',', '.'), ('Dr.', 'NOUN'), ('Talcott', 'NOUN'), ('said', 'VERB'), ('0', 'X'), ('*T*-1', 'X'), ('.', '.')], [('The', 'DET'), ('U.S.', 'NOUN'), ('is', 'VERB'), ('one', 'NUM'), ('of', 'ADP'), ('the', 'DET'), ('few', 'ADJ'), ('industrialized', 'VERB'), ('nations', 'NOUN'), ('that', 'DET'), ('*T*-7', 'X'), ('does', 'VERB'), (\"n't\", 'ADV'), ('have', 'VERB'), ('a', 'DET'), ('higher', 'ADJ'), ('standard', 'NOUN'), ('of', 'ADP'), ('regulation', 'NOUN'), ('for', 'ADP'), ('the', 'DET'), ('smooth', 'ADJ'), (',', '.'), ('needle-like', 'ADJ'), ('fibers', 'NOUN'), ('such', 'ADJ'), ('as', 'ADP'), ('crocidolite', 'NOUN'), ('that', 'DET'), ('*T*-1', 'X'), ('are', 'VERB'), ('classified', 'VERB'), ('*-5', 'X'), ('as', 'ADP'), ('amphobiles', 'NOUN'), (',', '.'), ('according', 'VERB'), ('to', 'PRT'), ('Brooke', 'NOUN'), ('T.', 'NOUN'), ('Mossman', 'NOUN'), (',', '.'), ('a', 'DET'), ('professor', 'NOUN'), ('of', 'ADP'), ('pathlogy', 'NOUN'), ('at', 'ADP'), ('the', 'DET'), ('University', 'NOUN'), ('of', 'ADP'), ('Vermont', 'NOUN'), ('College', 'NOUN'), ('of', 'ADP'), ('Medicine', 'NOUN'), ('.', '.')], [('More', 'ADV'), ('common', 'ADJ'), ('chrysotile', 'NOUN'), ('fibers', 'NOUN'), ('are', 'VERB'), ('curly', 'ADJ'), ('and', 'CONJ'), ('are', 'VERB'), ('more', 'ADV'), ('easily', 'ADV'), ('rejected', 'VERB'), ('*-1', 'X'), ('by', 'ADP'), ('the', 'DET'), ('body', 'NOUN'), (',', '.'), ('Dr.', 'NOUN'), ('Mossman', 'NOUN'), ('explained', 'VERB'), ('0', 'X'), ('*T*-2', 'X'), ('.', '.')], [('In', 'ADP'), ('July', 'NOUN'), (',', '.'), ('the', 'DET'), ('Environmental', 'NOUN'), ('Protection', 'NOUN'), ('Agency', 'NOUN'), ('imposed', 'VERB'), ('a', 'DET'), ('gradual', 'ADJ'), ('ban', 'NOUN'), ('on', 'ADP'), ('virtually', 'ADV'), ('all', 'DET'), ('uses', 'NOUN'), ('of', 'ADP'), ('asbestos', 'NOUN'), ('.', '.')], [('By', 'ADP'), ('1997', 'NUM'), (',', '.'), ('almost', 'ADV'), ('all', 'DET'), ('remaining', 'VERB'), ('uses', 'NOUN'), ('of', 'ADP'), ('cancer-causing', 'ADJ'), ('asbestos', 'NOUN'), ('will', 'VERB'), ('be', 'VERB'), ('outlawed', 'VERB'), ('*-6', 'X'), ('.', '.')], [('About', 'ADP'), ('160', 'NUM'), ('workers', 'NOUN'), ('at', 'ADP'), ('a', 'DET'), ('factory', 'NOUN'), ('that', 'DET'), ('*T*-8', 'X'), ('made', 'VERB'), ('paper', 'NOUN'), ('for', 'ADP'), ('the', 'DET'), ('Kent', 'NOUN'), ('filters', 'NOUN'), ('were', 'VERB'), ('exposed', 'VERB'), ('*-7', 'X'), ('to', 'PRT'), ('asbestos', 'NOUN'), ('in', 'ADP'), ('the', 'DET'), ('1950s', 'NUM'), ('.', '.')], [('Areas', 'NOUN'), ('of', 'ADP'), ('the', 'DET'), ('factory', 'NOUN'), ('*ICH*-2', 'X'), ('were', 'VERB'), ('particularly', 'ADV'), ('dusty', 'ADJ'), ('where', 'ADV'), ('the', 'DET'), ('crocidolite', 'NOUN'), ('was', 'VERB'), ('used', 'VERB'), ('*-8', 'X'), ('*T*-1', 'X'), ('.', '.')], [('Workers', 'NOUN'), ('dumped', 'VERB'), ('large', 'ADJ'), ('burlap', 'NOUN'), ('sacks', 'NOUN'), ('of', 'ADP'), ('the', 'DET'), ('imported', 'VERB'), ('material', 'NOUN'), ('into', 'ADP'), ('a', 'DET'), ('huge', 'ADJ'), ('bin', 'NOUN'), (',', '.'), ('poured', 'VERB'), ('in', 'PRT'), ('cotton', 'NOUN'), ('and', 'CONJ'), ('acetate', 'NOUN'), ('fibers', 'NOUN'), ('and', 'CONJ'), ('mechanically', 'ADV'), ('mixed', 'VERB'), ('the', 'DET'), ('dry', 'ADJ'), ('fibers', 'NOUN'), ('in', 'ADP'), ('a', 'DET'), ('process', 'NOUN'), ('used', 'VERB'), ('*', 'X'), ('*', 'X'), ('to', 'PRT'), ('make', 'VERB'), ('filters', 'NOUN'), ('.', '.')], [('Workers', 'NOUN'), ('described', 'VERB'), ('``', '.'), ('clouds', 'NOUN'), ('of', 'ADP'), ('blue', 'ADJ'), ('dust', 'NOUN'), (\"''\", '.'), ('that', 'DET'), ('*T*-1', 'X'), ('hung', 'VERB'), ('over', 'ADP'), ('parts', 'NOUN'), ('of', 'ADP'), ('the', 'DET'), ('factory', 'NOUN'), (',', '.'), ('even', 'ADV'), ('though', 'ADP'), ('exhaust', 'NOUN'), ('fans', 'NOUN'), ('ventilated', 'VERB'), ('the', 'DET'), ('area', 'NOUN'), ('.', '.')], [('``', '.'), ('There', 'DET'), (\"'s\", 'VERB'), ('no', 'DET'), ('question', 'NOUN'), ('that', 'ADP'), ('some', 'DET'), ('of', 'ADP'), ('those', 'DET'), ('workers', 'NOUN'), ('and', 'CONJ'), ('managers', 'NOUN'), ('contracted', 'VERB'), ('asbestos-related', 'ADJ'), ('diseases', 'NOUN'), (',', '.'), (\"''\", '.'), ('said', 'VERB'), ('*T*-1', 'X'), ('Darrell', 'NOUN'), ('Phillips', 'NOUN'), (',', '.'), ('vice', 'NOUN'), ('president', 'NOUN'), ('of', 'ADP'), ('human', 'ADJ'), ('resources', 'NOUN'), ('for', 'ADP'), ('Hollingsworth', 'NOUN'), ('&', 'CONJ'), ('Vose', 'NOUN'), ('.', '.')], [('``', '.'), ('But', 'CONJ'), ('you', 'PRON'), ('have', 'VERB'), ('*-1', 'X'), ('to', 'PRT'), ('recognize', 'VERB'), ('that', 'ADP'), ('these', 'DET'), ('events', 'NOUN'), ('took', 'VERB'), ('place', 'NOUN'), ('35', 'NUM'), ('years', 'NOUN'), ('ago', 'ADP'), ('.', '.')], [('It', 'PRON'), ('has', 'VERB'), ('no', 'DET'), ('bearing', 'NOUN'), ('on', 'ADP'), ('our', 'PRON'), ('work', 'NOUN'), ('force', 'NOUN'), ('today', 'NOUN'), ('.', '.')], [('Yields', 'NOUN'), ('on', 'ADP'), ('money-market', 'ADJ'), ('mutual', 'ADJ'), ('funds', 'NOUN'), ('continued', 'VERB'), ('*-1', 'X'), ('to', 'PRT'), ('slide', 'VERB'), (',', '.'), ('amid', 'ADP'), ('signs', 'NOUN'), ('that', 'ADP'), ('portfolio', 'NOUN'), ('managers', 'NOUN'), ('expect', 'VERB'), ('further', 'ADJ'), ('declines', 'NOUN'), ('in', 'ADP'), ('interest', 'NOUN'), ('rates', 'NOUN'), ('.', '.')], [('The', 'DET'), ('average', 'ADJ'), ('seven-day', 'ADJ'), ('compound', 'NOUN'), ('yield', 'NOUN'), ('of', 'ADP'), ('the', 'DET'), ('400', 'NUM'), ('taxable', 'ADJ'), ('funds', 'NOUN'), ('tracked', 'VERB'), ('*', 'X'), ('by', 'ADP'), ('IBC', 'NOUN'), (\"'s\", 'PRT'), ('Money', 'NOUN'), ('Fund', 'NOUN'), ('Report', 'NOUN'), ('eased', 'VERB'), ('a', 'DET'), ('fraction', 'NOUN'), ('of', 'ADP'), ('a', 'DET'), ('percentage', 'NOUN'), ('point', 'NOUN'), ('to', 'PRT'), ('8.45', 'NUM'), ('%', 'NOUN'), ('from', 'ADP'), ('8.47', 'NUM'), ('%', 'NOUN'), ('for', 'ADP'), ('the', 'DET'), ('week', 'NOUN'), ('ended', 'VERB'), ('Tuesday', 'NOUN'), ('.', '.')], [('Compound', 'NOUN'), ('yields', 'NOUN'), ('assume', 'VERB'), ('reinvestment', 'NOUN'), ('of', 'ADP'), ('dividends', 'NOUN'), ('and', 'CONJ'), ('that', 'ADP'), ('the', 'DET'), ('current', 'ADJ'), ('yield', 'NOUN'), ('continues', 'VERB'), ('for', 'ADP'), ('a', 'DET'), ('year', 'NOUN'), ('.', '.')], [('Average', 'ADJ'), ('maturity', 'NOUN'), ('of', 'ADP'), ('the', 'DET'), ('funds', 'NOUN'), (\"'\", 'PRT'), ('investments', 'NOUN'), ('lengthened', 'VERB'), ('by', 'ADP'), ('a', 'DET'), ('day', 'NOUN'), ('to', 'PRT'), ('41', 'NUM'), ('days', 'NOUN'), (',', '.'), ('the', 'DET'), ('longest', 'ADJ'), ('since', 'ADP'), ('early', 'ADJ'), ('August', 'NOUN'), (',', '.'), ('according', 'VERB'), ('to', 'PRT'), ('Donoghue', 'NOUN'), (\"'s\", 'PRT'), ('.', '.')], [('Longer', 'ADJ'), ('maturities', 'NOUN'), ('are', 'VERB'), ('thought', 'VERB'), ('*-1', 'X'), ('to', 'PRT'), ('indicate', 'VERB'), ('declining', 'VERB'), ('interest', 'NOUN'), ('rates', 'NOUN'), ('because', 'ADP'), ('they', 'PRON'), ('permit', 'VERB'), ('portfolio', 'NOUN'), ('managers', 'NOUN'), ('to', 'PRT'), ('retain', 'VERB'), ('relatively', 'ADV'), ('higher', 'ADJ'), ('rates', 'NOUN'), ('for', 'ADP'), ('a', 'DET'), ('longer', 'ADJ'), ('period', 'NOUN'), ('.', '.')], [('Shorter', 'ADJ'), ('maturities', 'NOUN'), ('are', 'VERB'), ('considered', 'VERB'), ('*-9', 'X'), ('a', 'DET'), ('sign', 'NOUN'), ('of', 'ADP'), ('rising', 'VERB'), ('rates', 'NOUN'), ('because', 'ADP'), ('portfolio', 'NOUN'), ('managers', 'NOUN'), ('can', 'VERB'), ('capture', 'VERB'), ('higher', 'ADJ'), ('rates', 'NOUN'), ('sooner', 'ADV'), ('.', '.')], [('The', 'DET'), ('average', 'ADJ'), ('maturity', 'NOUN'), ('for', 'ADP'), ('funds', 'NOUN'), ('open', 'ADJ'), ('only', 'ADV'), ('to', 'PRT'), ('institutions', 'NOUN'), (',', '.'), ('considered', 'VERB'), ('by', 'ADP'), ('some', 'DET'), ('*', 'X'), ('to', 'PRT'), ('be', 'VERB'), ('a', 'DET'), ('stronger', 'ADJ'), ('indicator', 'NOUN'), ('because', 'ADP'), ('those', 'DET'), ('managers', 'NOUN'), ('watch', 'VERB'), ('the', 'DET'), ('market', 'NOUN'), ('closely', 'ADV'), (',', '.'), ('reached', 'VERB'), ('a', 'DET'), ('high', 'ADJ'), ('point', 'NOUN'), ('for', 'ADP'), ('the', 'DET'), ('year', 'NOUN'), ('--', '.'), ('33', 'NUM'), ('days', 'NOUN'), ('.', '.')], [('Nevertheless', 'ADV'), (',', '.'), ('said', 'VERB'), ('*T*-1', 'X'), ('Brenda', 'NOUN'), ('Malizia', 'NOUN'), ('Negus', 'NOUN'), (',', '.'), ('editor', 'NOUN'), ('of', 'ADP'), ('Money', 'NOUN'), ('Fund', 'NOUN'), ('Report', 'NOUN'), (',', '.'), ('yields', 'NOUN'), ('``', '.'), ('may', 'VERB'), ('blip', 'VERB'), ('up', 'PRT'), ('again', 'ADV'), ('before', 'ADP'), ('they', 'PRON'), ('blip', 'VERB'), ('down', 'PRT'), (\"''\", '.'), ('because', 'ADP'), ('of', 'ADP'), ('recent', 'ADJ'), ('rises', 'NOUN'), ('in', 'ADP'), ('short-term', 'ADJ'), ('interest', 'NOUN'), ('rates', 'NOUN'), ('.', '.')], [('The', 'DET'), ('yield', 'NOUN'), ('on', 'ADP'), ('six-month', 'ADJ'), ('Treasury', 'NOUN'), ('bills', 'NOUN'), ('sold', 'VERB'), ('*', 'X'), ('at', 'ADP'), ('Monday', 'NOUN'), (\"'s\", 'PRT'), ('auction', 'NOUN'), (',', '.'), ('for', 'ADP'), ('example', 'NOUN'), (',', '.'), ('rose', 'VERB'), ('to', 'PRT'), ('8.04', 'NUM'), ('%', 'NOUN'), ('from', 'ADP'), ('7.90', 'NUM'), ('%', 'NOUN'), ('.', '.')], [('Despite', 'ADP'), ('recent', 'ADJ'), ('declines', 'NOUN'), ('in', 'ADP'), ('yields', 'NOUN'), (',', '.'), ('investors', 'NOUN'), ('continue', 'VERB'), ('*-1', 'X'), ('to', 'PRT'), ('pour', 'VERB'), ('cash', 'NOUN'), ('into', 'ADP'), ('money', 'NOUN'), ('funds', 'NOUN'), ('.', '.')], [('Assets', 'NOUN'), ('of', 'ADP'), ('the', 'DET'), ('400', 'NUM'), ('taxable', 'ADJ'), ('funds', 'NOUN'), ('grew', 'VERB'), ('by', 'ADP'), ('$', '.'), ('1.5', 'NUM'), ('billion', 'NUM'), ('*U*', 'X'), ('during', 'ADP'), ('the', 'DET'), ('latest', 'ADJ'), ('week', 'NOUN'), (',', '.'), ('to', 'PRT'), ('$', '.'), ('352.7', 'NUM'), ('billion', 'NUM'), ('*U*', 'X'), ('.', '.')], [('Typically', 'ADV'), (',', '.'), ('money-fund', 'NOUN'), ('yields', 'NOUN'), ('beat', 'VERB'), ('comparable', 'ADJ'), ('short-term', 'ADJ'), ('investments', 'NOUN'), ('because', 'ADP'), ('portfolio', 'NOUN'), ('managers', 'NOUN'), ('can', 'VERB'), ('vary', 'VERB'), ('maturities', 'NOUN'), ('and', 'CONJ'), ('go', 'VERB'), ('after', 'ADP'), ('the', 'DET'), ('highest', 'ADJ'), ('rates', 'NOUN'), ('.', '.')], [('The', 'DET'), ('top', 'ADJ'), ('money', 'NOUN'), ('funds', 'NOUN'), ('are', 'VERB'), ('currently', 'ADV'), ('yielding', 'VERB'), ('well', 'ADV'), ('over', 'ADP'), ('9', 'NUM'), ('%', 'NOUN'), ('.', '.')], [('Dreyfus', 'NOUN'), ('World-Wide', 'NOUN'), ('Dollar', 'NOUN'), (',', '.'), ('the', 'DET'), ('top-yielding', 'ADJ'), ('fund', 'NOUN'), (',', '.'), ('had', 'VERB'), ('a', 'DET'), ('seven-day', 'ADJ'), ('compound', 'NOUN'), ('yield', 'NOUN'), ('of', 'ADP'), ('9.37', 'NUM'), ('%', 'NOUN'), ('during', 'ADP'), ('the', 'DET'), ('latest', 'ADJ'), ('week', 'NOUN'), (',', '.'), ('down', 'ADV'), ('from', 'ADP'), ('9.45', 'NUM'), ('%', 'NOUN'), ('a', 'DET'), ('week', 'NOUN'), ('earlier', 'ADJ'), ('.', '.')], [('It', 'PRON'), ('invests', 'VERB'), ('heavily', 'ADV'), ('in', 'ADP'), ('dollar-denominated', 'ADJ'), ('securities', 'NOUN'), ('overseas', 'ADV'), ('and', 'CONJ'), ('is', 'VERB'), ('currently', 'ADV'), ('waiving', 'VERB'), ('management', 'NOUN'), ('fees', 'NOUN'), (',', '.'), ('which', 'DET'), ('*T*-9', 'X'), ('boosts', 'VERB'), ('its', 'PRON'), ('yield', 'NOUN'), ('.', '.')], [('The', 'DET'), ('average', 'ADJ'), ('seven-day', 'ADJ'), ('simple', 'ADJ'), ('yield', 'NOUN'), ('of', 'ADP'), ('the', 'DET'), ('400', 'NUM'), ('funds', 'NOUN'), ('was', 'VERB'), ('8.12', 'NUM'), ('%', 'NOUN'), (',', '.'), ('down', 'ADV'), ('from', 'ADP'), ('8.14', 'NUM'), ('%', 'NOUN'), ('.', '.')], [('The', 'DET'), ('30-day', 'ADJ'), ('simple', 'ADJ'), ('yield', 'NOUN'), ('fell', 'VERB'), ('to', 'PRT'), ('an', 'DET'), ('average', 'ADJ'), ('8.19', 'NUM'), ('%', 'NOUN'), ('from', 'ADP'), ('8.22', 'NUM'), ('%', 'NOUN'), (';', '.'), ('the', 'DET'), ('30-day', 'ADJ'), ('compound', 'NOUN'), ('yield', 'NOUN'), ('slid', 'VERB'), ('to', 'PRT'), ('an', 'DET'), ('average', 'ADJ'), ('8.53', 'NUM'), ('%', 'NOUN'), ('from', 'ADP'), ('8.56', 'NUM'), ('%', 'NOUN'), ('.', '.')]]\n"
     ]
    }
   ],
   "source": [
    "print(nltk_data[:50])"
   ]
  },
  {
   "cell_type": "code",
   "execution_count": 4,
   "metadata": {},
   "outputs": [
    {
     "name": "stdout",
     "output_type": "stream",
     "text": [
      "3718\n",
      "196\n",
      "[[('Great', 'NOUN'), ('Northern', 'NOUN'), ('Nekoosa', 'NOUN'), (',', '.'), ('which', 'DET'), ('*T*-1', 'X'), ('surged', 'VERB'), ('20', 'NUM'), ('1\\\\/8', 'NUM'), ('Tuesday', 'NOUN'), ('after', 'ADP'), ('Georgia-Pacific', 'NOUN'), ('launched', 'VERB'), ('a', 'DET'), ('$', '.'), ('3.18', 'NUM'), ('billion', 'NUM'), ('*U*', 'X'), ('offer', 'NOUN'), ('for', 'ADP'), ('the', 'DET'), ('company', 'NOUN'), (',', '.'), ('dropped', 'VERB'), ('1', 'NUM'), ('3\\\\/8', 'NUM'), ('to', 'PRT'), ('61', 'NUM'), ('1\\\\/2', 'NUM'), ('in', 'ADP'), ('Big', 'NOUN'), ('Board', 'NOUN'), ('composite', 'NOUN'), ('trading', 'NOUN'), ('of', 'ADP'), ('5.1', 'NUM'), ('million', 'NUM'), ('shares', 'NOUN'), ('.', '.')], [('A', 'DET'), ('free', 'ADJ'), ('market', 'NOUN'), ('with', 'ADP'), ('a', 'DET'), ('profit', 'NOUN'), ('motive', 'NOUN'), ('will', 'VERB'), ('attract', 'VERB'), ('each', 'DET'), ('investor', 'NOUN'), ('to', 'PRT'), ('the', 'DET'), ('liquidity', 'NOUN'), ('and', 'CONJ'), ('risks', 'NOUN'), ('0', 'X'), ('he', 'PRON'), ('can', 'VERB'), ('tolerate', 'VERB'), ('*T*-1', 'X'), ('.', '.')], [('The', 'DET'), ('Ministry', 'NOUN'), ('of', 'ADP'), ('International', 'NOUN'), ('Trade', 'NOUN'), ('and', 'CONJ'), ('Industry', 'NOUN'), ('summoned', 'VERB'), ('executives', 'NOUN'), ('from', 'ADP'), ('the', 'DET'), ('companies', 'NOUN'), ('*-1', 'X'), ('to', 'PRT'), ('``', '.'), ('make', 'VERB'), ('sure', 'ADJ'), ('0', 'X'), ('they', 'PRON'), ('understood', 'VERB'), (\"''\", '.'), ('the', 'DET'), ('concern', 'NOUN'), ('about', 'ADP'), ('such', 'ADJ'), ('practices', 'NOUN'), (',', '.'), ('according', 'VERB'), ('to', 'PRT'), ('a', 'DET'), ('government', 'NOUN'), ('spokesman', 'NOUN'), ('.', '.')], [('The', 'DET'), ('sweeping', 'ADJ'), ('nature', 'NOUN'), ('of', 'ADP'), ('the', 'DET'), ('bill', 'NOUN'), ('draws', 'VERB'), ('a', 'DET'), ('variety', 'NOUN'), ('of', 'ADP'), ('special', 'ADJ'), ('interest', 'NOUN'), ('amendments', 'NOUN'), (',', '.'), ('running', 'VERB'), ('from', 'ADP'), ('an', 'DET'), ('import', 'NOUN'), ('exemption', 'NOUN'), ('for', 'ADP'), ('a', 'DET'), ('California', 'NOUN'), ('airplane', 'NOUN'), ('museum', 'NOUN'), ('to', 'PRT'), ('a', 'DET'), ('small', 'ADJ'), ('but', 'CONJ'), ('intriguing', 'ADJ'), ('struggle', 'NOUN'), ('among', 'ADP'), ('sugar', 'NOUN'), ('producing', 'VERB'), ('nations', 'NOUN'), ('over', 'ADP'), ('the', 'DET'), ('fate', 'NOUN'), ('of', 'ADP'), ('Panama', 'NOUN'), (\"'s\", 'PRT'), ('quota', 'NOUN'), ('of', 'ADP'), ('exports', 'NOUN'), ('to', 'PRT'), ('the', 'DET'), ('profitable', 'ADJ'), ('U.S.', 'NOUN'), ('market', 'NOUN'), ('.', '.')], [('Mr.', 'NOUN'), ('Dahl', 'NOUN'), (',', '.'), ('a', 'DET'), ('registered', 'VERB'), ('representative', 'NOUN'), ('in', 'ADP'), ('the', 'DET'), ('insurance', 'NOUN'), ('business', 'NOUN'), (',', '.'), ('said', 'VERB'), ('0', 'X'), ('he', 'PRON'), ('``', '.'), ('screwed', 'VERB'), ('up', 'PRT'), (\"''\", '.'), ('because', 'ADP'), ('he', 'PRON'), ('did', 'VERB'), (\"n't\", 'ADV'), ('realize', 'VERB'), ('0', 'X'), ('he', 'PRON'), ('was', 'VERB'), ('breaking', 'VERB'), ('securities', 'NOUN'), ('laws', 'NOUN'), ('.', '.')], [('A', 'DET'), ('buffet', 'NOUN'), ('breakfast', 'NOUN'), ('was', 'VERB'), ('held', 'VERB'), ('*-1', 'X'), ('in', 'ADP'), ('the', 'DET'), ('museum', 'NOUN'), (',', '.'), ('where', 'ADV'), ('food', 'NOUN'), ('and', 'CONJ'), ('drinks', 'NOUN'), ('are', 'VERB'), ('banned', 'VERB'), ('*-2', 'X'), ('to', 'PRT'), ('everyday', 'ADJ'), ('visitors', 'NOUN'), ('*T*-3', 'X'), ('.', '.')], [('But', 'CONJ'), ('the', 'DET'), ('court', 'NOUN'), ('disagreed', 'VERB'), ('.', '.')], [('The', 'DET'), ('NIH', 'NOUN'), ('currently', 'ADV'), ('spends', 'VERB'), ('about', 'ADP'), ('$', '.'), ('8', 'NUM'), ('million', 'NUM'), ('*U*', 'X'), ('*ICH*-2', 'X'), ('annually', 'ADV'), ('on', 'ADP'), ('fetal-tissue', 'ADJ'), ('research', 'NOUN'), ('out', 'ADP'), ('of', 'ADP'), ('a', 'DET'), ('total', 'ADJ'), ('research', 'NOUN'), ('budget', 'NOUN'), ('of', 'ADP'), ('$', '.'), ('8', 'NUM'), ('billion', 'NUM'), ('*U*', 'X'), ('.', '.')], [('Mr.', 'NOUN'), ('Rapanelli', 'NOUN'), ('met', 'VERB'), ('in', 'ADP'), ('August', 'NOUN'), ('with', 'ADP'), ('U.S.', 'NOUN'), ('Assistant', 'NOUN'), ('Treasury', 'NOUN'), ('Secretary', 'NOUN'), ('David', 'NOUN'), ('Mulford', 'NOUN'), ('.', '.')], [('When', 'ADV'), ('two', 'NUM'), ('parties', 'NOUN'), ('engage', 'VERB'), ('in', 'ADP'), ('an', 'DET'), ('interest-rate', 'NOUN'), ('swap', 'NOUN'), ('*T*-1', 'X'), (',', '.'), ('they', 'PRON'), ('are', 'VERB'), ('betting', 'VERB'), ('against', 'ADP'), ('each', 'DET'), ('other', 'ADJ'), ('on', 'ADP'), ('future', 'ADJ'), ('rates', 'NOUN'), ('.', '.')], [('Until', 'ADP'), ('last', 'ADJ'), ('week', 'NOUN'), (',', '.'), ('the', 'DET'), ('IRS', 'NOUN'), ('rarely', 'ADV'), ('acted', 'VERB'), ('on', 'ADP'), ('the', 'DET'), ('incomplete', 'ADJ'), ('forms', 'NOUN'), ('.', '.')], [('Critics', 'NOUN'), ('like', 'ADP'), ('Mr.', 'NOUN'), ('Murray', 'NOUN'), ('``', '.'), ('are', 'VERB'), ('looking', 'VERB'), ('for', 'ADP'), ('witches', 'NOUN'), (',', '.'), ('and', 'CONJ'), ('people', 'NOUN'), ('who', 'PRON'), ('*T*-68', 'X'), ('use', 'VERB'), ('computers', 'NOUN'), ('*', 'X'), ('to', 'PRT'), ('trade', 'VERB'), ('are', 'VERB'), ('a', 'DET'), ('convenient', 'ADJ'), ('boogieman', 'NOUN'), (',', '.'), (\"''\", '.'), ('says', 'VERB'), ('0', 'X'), ('*T*-3', 'X'), ('J.', 'NOUN'), ('Thomas', 'NOUN'), ('Allen', 'NOUN'), (',', '.'), ('president', 'NOUN'), ('of', 'ADP'), ('Advanced', 'NOUN'), ('Investment', 'NOUN'), ('Management', 'NOUN'), ('Inc.', 'NOUN'), (',', '.'), ('a', 'DET'), ('Pittsburgh', 'NOUN'), ('firm', 'NOUN'), ('that', 'DET'), ('*T*-1', 'X'), ('runs', 'VERB'), ('a', 'DET'), ('$', '.'), ('200', 'NUM'), ('million', 'NUM'), ('*U*', 'X'), ('fund', 'NOUN'), ('that', 'DET'), ('*T*-2', 'X'), ('uses', 'VERB'), ('index', 'NOUN'), ('arbitrage', 'NOUN'), ('.', '.')], [('Some', 'DET'), ('of', 'ADP'), ('the', 'DET'), ('proposed', 'VERB'), ('fixes', 'NOUN'), ('for', 'ADP'), ('what', 'PRON'), ('*T*-1', 'X'), ('is', 'VERB'), ('labeled', 'VERB'), ('*-80', 'X'), ('``', '.'), ('program-trading', 'NOUN'), ('volatility', 'NOUN'), (\"''\", '.'), ('could', 'VERB'), ('be', 'VERB'), ('far', 'ADV'), ('worse', 'ADJ'), ('than', 'ADP'), ('the', 'DET'), ('perceived', 'VERB'), ('problem', 'NOUN'), ('.', '.')], [('Bush', 'NOUN'), ('unveiled', 'VERB'), ('a', 'DET'), ('package', 'NOUN'), ('of', 'ADP'), ('trade', 'NOUN'), ('initiatives', 'NOUN'), ('0', 'X'), ('*T*-1', 'X'), ('to', 'PRT'), ('help', 'VERB'), ('*-2', 'X'), ('establish', 'VERB'), ('``', '.'), ('economic', 'ADJ'), ('alternatives', 'NOUN'), ('to', 'PRT'), ('drug', 'NOUN'), ('trafficking', 'NOUN'), (\"''\", '.'), ('in', 'ADP'), ('the', 'DET'), ('Andean', 'ADJ'), ('nations', 'NOUN'), ('of', 'ADP'), ('South', 'NOUN'), ('America', 'NOUN'), ('.', '.')], [('Without', 'ADP'), ('*-1', 'X'), ('admitting', 'VERB'), ('or', 'CONJ'), ('denying', 'VERB'), ('wrongdoing', 'NOUN'), (',', '.'), ('they', 'PRON'), ('consented', 'VERB'), ('to', 'PRT'), ('findings', 'NOUN'), ('that', 'ADP'), ('they', 'PRON'), ('failed', 'VERB'), ('*-2', 'X'), ('to', 'PRT'), ('return', 'VERB'), ('funds', 'NOUN'), ('owed', 'VERB'), ('*', 'X'), ('to', 'PRT'), ('customers', 'NOUN'), ('in', 'ADP'), ('connection', 'NOUN'), ('with', 'ADP'), ('a', 'DET'), ('limited-partnership', 'NOUN'), ('offering', 'NOUN'), ('.', '.')], [('``', '.'), ('Total', 'ADJ'), ('merchant', 'NOUN'), ('banking', 'NOUN'), ('exposures', 'NOUN'), ('are', 'VERB'), ('in', 'ADP'), ('excess', 'NOUN'), ('of', 'ADP'), ('the', 'DET'), ('firm', 'NOUN'), (\"'s\", 'PRT'), ('equity', 'NOUN'), ('.', '.'), (\"''\", '.')], [('In', 'ADP'), ('a', 'DET'), ('separate', 'ADJ'), ('report', 'NOUN'), (',', '.'), ('the', 'DET'), ('department', 'NOUN'), ('said', 'VERB'), ('0', 'X'), ('construction', 'NOUN'), ('spending', 'NOUN'), ('ran', 'VERB'), ('at', 'ADP'), ('an', 'DET'), ('annual', 'ADJ'), ('rate', 'NOUN'), ('of', 'ADP'), ('$', '.'), ('415.6', 'NUM'), ('billion', 'NUM'), ('*U*', 'X'), (',', '.'), ('not', 'ADV'), ('significantly', 'ADV'), ('different', 'ADJ'), ('from', 'ADP'), ('the', 'DET'), ('$', '.'), ('415.8', 'NUM'), ('billion', 'NUM'), ('*U*', 'X'), ('reported', 'VERB'), ('*', 'X'), ('for', 'ADP'), ('August', 'NOUN'), ('.', '.')], [('Mr.', 'NOUN'), ('McGovern', 'NOUN'), ('himself', 'PRON'), ('had', 'VERB'), ('said', 'VERB'), ('repeatedly', 'ADV'), ('that', 'ADP'), ('he', 'PRON'), ('intended', 'VERB'), ('*-1', 'X'), ('to', 'PRT'), ('stay', 'VERB'), ('on', 'PRT'), ('until', 'ADP'), ('he', 'PRON'), ('reached', 'VERB'), ('the', 'DET'), ('conventional', 'ADJ'), ('retirement', 'NOUN'), ('age', 'NOUN'), ('of', 'ADP'), ('65', 'NUM'), ('in', 'ADP'), ('October', 'NOUN'), ('1991', 'NUM'), (',', '.'), ('``', '.'), ('unless', 'ADP'), ('I', 'PRON'), ('get', 'VERB'), ('fired', 'VERB'), ('.', '.'), (\"''\", '.')], [('``', '.'), ('I', 'PRON'), (\"'ve\", 'VERB'), ('never', 'ADV'), ('seen', 'VERB'), ('so', 'ADP'), ('many', 'ADJ'), ('people', 'NOUN'), ('crying', 'VERB'), ('in', 'ADP'), ('one', 'NUM'), ('place', 'NOUN'), ('at', 'ADP'), ('one', 'NUM'), ('time', 'NOUN'), (',', '.'), (\"''\", '.'), ('said', 'VERB'), ('*T*-1', 'X'), ('Bill', 'NOUN'), ('Johnson', 'NOUN'), (',', '.'), ('an', 'DET'), ('assistant', 'ADJ'), ('city', 'NOUN'), ('editor', 'NOUN'), ('.', '.')], [('Named', 'VERB'), ('*-2', 'X'), ('as', 'ADP'), ('defendants', 'NOUN'), ('were', 'VERB'), ('*T*-1', 'X'), ('Roland', 'NOUN'), ('Matthews', 'NOUN'), (',', '.'), ('president', 'NOUN'), (',', '.'), ('and', 'CONJ'), ('Peter', 'NOUN'), ('Jonas', 'NOUN'), (',', '.'), ('executive', 'ADJ'), ('vice', 'NOUN'), ('president', 'NOUN'), ('and', 'CONJ'), ('chief', 'NOUN'), ('financial', 'ADJ'), ('officer', 'NOUN'), (',', '.'), ('as', 'ADV'), ('well', 'ADV'), ('as', 'ADP'), ('a', 'DET'), ('former', 'ADJ'), ('plant', 'NOUN'), ('manager', 'NOUN'), ('.', '.')], [('The', 'DET'), ('concept', 'NOUN'), ('begot', 'VERB'), ('a', 'DET'), ('slew', 'NOUN'), ('of', 'ADP'), ('copycats', 'NOUN'), (',', '.'), ('but', 'CONJ'), ('the', 'DET'), ('banks', 'NOUN'), ('stopped', 'VERB'), ('*-1', 'X'), ('promoting', 'VERB'), ('the', 'DET'), ('packages', 'NOUN'), ('.', '.')], [('Bush', 'NOUN'), ('administration', 'NOUN'), ('officials', 'NOUN'), ('are', 'VERB'), ('looking', 'VERB'), ('to', 'PRT'), ('the', 'DET'), ('Fed', 'NOUN'), ('*-1', 'X'), ('to', 'PRT'), ('bring', 'VERB'), ('down', 'PRT'), ('rates', 'NOUN'), (',', '.'), ('and', 'CONJ'), ('financial', 'ADJ'), ('markets', 'NOUN'), ('seem', 'VERB'), ('*-2', 'X'), ('to', 'PRT'), ('be', 'VERB'), ('expecting', 'VERB'), ('easier', 'ADJ'), ('credit', 'NOUN'), ('as', 'ADV'), ('well', 'ADV'), ('.', '.')], [('``', '.'), ('*', 'X'), ('To', 'PRT'), ('avoid', 'VERB'), ('these', 'DET'), ('costs', 'NOUN'), (',', '.'), ('and', 'CONJ'), ('a', 'DET'), ('possible', 'ADJ'), ('default', 'NOUN'), (',', '.'), ('immediate', 'ADJ'), ('action', 'NOUN'), ('is', 'VERB'), ('imperative', 'ADJ'), ('.', '.'), (\"''\", '.')], [('Both', 'DET'), ('sides', 'NOUN'), ('are', 'VERB'), ('in', 'ADP'), ('talks', 'NOUN'), ('0', 'X'), ('*', 'X'), ('to', 'PRT'), ('settle', 'VERB'), ('the', 'DET'), ('dispute', 'NOUN'), ('*T*-1', 'X'), ('.', '.')], [('David', 'NOUN'), ('Berson', 'NOUN'), (',', '.'), ('economist', 'NOUN'), ('for', 'ADP'), ('the', 'DET'), ('Mortgage', 'NOUN'), ('Bankers', 'NOUN'), ('Association', 'NOUN'), (',', '.'), ('predicted', 'VERB'), ('0', 'X'), ('the', 'DET'), ('drop', 'NOUN'), ('in', 'ADP'), ('interest', 'NOUN'), ('rates', 'NOUN'), ('eventually', 'ADV'), ('will', 'VERB'), ('boost', 'VERB'), ('spending', 'NOUN'), ('on', 'ADP'), ('single-family', 'ADJ'), ('homes', 'NOUN'), (',', '.'), ('but', 'CONJ'), ('probably', 'ADV'), ('not', 'ADV'), ('until', 'ADP'), ('early', 'ADJ'), ('next', 'ADJ'), ('year', 'NOUN'), ('.', '.')], [('Roederer', 'NOUN'), ('Cristal', 'NOUN'), ('at', 'ADP'), ('$', '.'), ('90', 'NUM'), ('*U*', 'X'), ('a', 'DET'), ('bottle', 'NOUN'), ('sells', 'VERB'), ('out', 'PRT'), ('around', 'ADP'), ('the', 'DET'), ('country', 'NOUN'), ('and', 'CONJ'), ('Taittinger', 'NOUN'), (\"'s\", 'PRT'), ('Comtes', 'NOUN'), ('de', 'ADP'), ('Champagne', 'NOUN'), ('Blanc', 'NOUN'), ('de', 'ADP'), ('Blancs', 'NOUN'), ('is', 'VERB'), ('encroaching', 'VERB'), ('upon', 'ADP'), ('that', 'DET'), ('level', 'NOUN'), ('.', '.')], [('Separately', 'ADV'), (',', '.'), ('Reuter', 'NOUN'), ('reported', 'VERB'), ('that', 'ADP'), ('the', 'DET'), ('Papua-New', 'NOUN'), ('Guinea', 'NOUN'), ('government', 'NOUN'), ('urged', 'VERB'), ('its', 'PRON'), ('Parliament', 'NOUN'), ('*-1', 'X'), ('to', 'PRT'), ('extend', 'VERB'), ('a', 'DET'), ('state', 'NOUN'), ('of', 'ADP'), ('emergency', 'NOUN'), ('in', 'ADP'), ('copper-rich', 'ADJ'), ('Bougainville', 'NOUN'), ('Island', 'NOUN'), ('for', 'ADP'), ('two', 'NUM'), ('months', 'NOUN'), ('.', '.')], [('Attorneys', 'NOUN'), ('in', 'ADP'), ('the', 'DET'), ('third', 'ADJ'), ('stock-manipulation', 'ADJ'), ('trial', 'NOUN'), ('of', 'ADP'), ('GAF', 'NOUN'), ('Corp.', 'NOUN'), ('began', 'VERB'), ('opening', 'VERB'), ('arguments', 'NOUN'), ('yesterday', 'NOUN'), ('in', 'ADP'), ('the', 'DET'), ('Manhattan', 'NOUN'), ('courtroom', 'NOUN'), ('of', 'ADP'), ('U.S.', 'NOUN'), ('District', 'NOUN'), ('Judge', 'NOUN'), ('Mary', 'NOUN'), ('Johnson', 'NOUN'), ('Lowe', 'NOUN'), ('.', '.')], [('Standard', 'NOUN'), ('&', 'CONJ'), ('Poor', 'NOUN'), (\"'s\", 'PRT'), ('Corp.', 'NOUN'), ('says', 'VERB'), ('0', 'X'), ('First', 'NOUN'), ('Boston', 'NOUN'), (',', '.'), ('Shearson', 'NOUN'), ('and', 'CONJ'), ('Drexel', 'NOUN'), ('Burnham', 'NOUN'), ('Lambert', 'NOUN'), ('Inc.', 'NOUN'), (',', '.'), ('in', 'ADP'), ('particular', 'ADJ'), (',', '.'), ('are', 'VERB'), ('likely', 'ADJ'), ('*-1', 'X'), ('to', 'PRT'), ('have', 'VERB'), ('difficulty', 'NOUN'), ('*-2', 'X'), ('shoring', 'VERB'), ('up', 'PRT'), ('their', 'PRON'), ('credit', 'NOUN'), ('standing', 'NOUN'), ('in', 'ADP'), ('months', 'NOUN'), ('ahead', 'ADV'), ('.', '.')], [('Komatsu', 'NOUN'), ('predicted', 'VERB'), ('that', 'ADP'), ('for', 'ADP'), ('the', 'DET'), ('fiscal', 'ADJ'), ('year', 'NOUN'), ('ending', 'VERB'), ('March', 'NOUN'), ('31', 'NUM'), ('sales', 'NOUN'), ('will', 'VERB'), ('climb', 'VERB'), ('to', 'PRT'), ('600', 'NUM'), ('billion', 'NUM'), ('yen', 'NOUN'), ('from', 'ADP'), ('566.54', 'NUM'), ('billion', 'NUM'), ('yen', 'NOUN'), (';', '.'), ('pretax', 'NOUN'), ('profit', 'NOUN'), ('was', 'VERB'), ('forecast', 'VERB'), ('*-1', 'X'), ('at', 'ADP'), ('35', 'NUM'), ('billion', 'NUM'), ('yen', 'NOUN'), (',', '.'), ('up', 'ADV'), ('from', 'ADP'), ('28.53', 'NUM'), ('billion', 'NUM'), ('yen', 'NOUN'), ('in', 'ADP'), ('fiscal', 'ADJ'), ('1989', 'NUM'), ('.', '.')], [('Big', 'NOUN'), ('Board', 'NOUN'), ('volume', 'NOUN'), ('totaled', 'VERB'), ('154.2', 'NUM'), ('million', 'NUM'), ('shares', 'NOUN'), ('.', '.')], [('``', '.'), ('It', 'PRON'), ('was', 'VERB'), ('like', 'ADP'), ('someone', 'NOUN'), ('had', 'VERB'), ('turned', 'VERB'), ('a', 'DET'), ('knife', 'NOUN'), ('in', 'ADP'), ('me', 'PRON'), ('.', '.'), (\"''\", '.')], [('``', '.'), ('It', 'PRON'), ('was', 'VERB'), ('full', 'ADJ'), ('of', 'ADP'), ('violence', 'NOUN'), ('and', 'CONJ'), ('gangs', 'NOUN'), ('and', 'CONJ'), ('kids', 'NOUN'), ('cutting', 'VERB'), ('class', 'NOUN'), (',', '.'), (\"''\", '.'), ('says', 'VERB'), ('*T*-1', 'X'), ('Linda', 'NOUN'), ('Ward', 'NOUN'), (',', '.'), ('the', 'DET'), ('school', 'NOUN'), (\"'s\", 'PRT'), ('principal', 'NOUN'), ('.', '.')], [('A', 'DET'), ('man', 'NOUN'), ('from', 'ADP'), ('the', 'DET'), ('Bush', 'NOUN'), ('administration', 'NOUN'), ('came', 'VERB'), ('before', 'ADP'), ('the', 'DET'), ('House', 'NOUN'), ('Agriculture', 'NOUN'), ('Committee', 'NOUN'), ('yesterday', 'NOUN'), ('*-1', 'X'), ('to', 'PRT'), ('talk', 'VERB'), ('about', 'ADP'), ('the', 'DET'), ('U.S.', 'NOUN'), (\"'s\", 'PRT'), ('intention', 'NOUN'), ('*', 'X'), ('to', 'PRT'), ('send', 'VERB'), ('some', 'DET'), ('$', '.'), ('100', 'NUM'), ('million', 'NUM'), ('*U*', 'X'), ('in', 'ADP'), ('food', 'NOUN'), ('aid', 'NOUN'), ('to', 'PRT'), ('Poland', 'NOUN'), (',', '.'), ('with', 'ADP'), ('more', 'ADJ'), ('0', 'X'), ('*T*-2', 'X'), ('to', 'PRT'), ('come', 'VERB'), ('from', 'ADP'), ('the', 'DET'), ('EC', 'NOUN'), ('.', '.')], [('For', 'ADP'), ('the', 'DET'), ('year', 'NOUN'), ('to', 'PRT'), ('date', 'NOUN'), (',', '.'), ('Moody', 'NOUN'), (\"'s\", 'PRT'), ('said', 'VERB'), ('0', 'X'), ('total', 'ADJ'), ('returns', 'NOUN'), ('were', 'VERB'), ('topped', 'VERB'), ('*-1', 'X'), ('by', 'ADP'), ('the', 'DET'), ('16.5', 'NUM'), ('%', 'NOUN'), ('of', 'ADP'), ('longer-term', 'ADJ'), ('Treasury', 'NOUN'), ('issues', 'NOUN'), (',', '.'), ('*-2', 'X'), ('closely', 'ADV'), ('followed', 'VERB'), ('*-3', 'X'), ('by', 'ADP'), ('15', 'NUM'), ('%', 'NOUN'), ('for', 'ADP'), ('investment-grade', 'ADJ'), ('bonds', 'NOUN'), ('.', '.')], [('Compromises', 'NOUN'), ('are', 'VERB'), ('possible', 'ADJ'), ('.', '.')], [('In', 'ADP'), ('London', 'NOUN'), ('at', 'ADP'), ('mid-afternoon', 'ADJ'), ('yesterday', 'NOUN'), (',', '.'), ('Ratners', 'NOUN'), (\"'s\", 'PRT'), ('shares', 'NOUN'), ('were', 'VERB'), ('up', 'ADV'), ('2', 'NUM'), ('pence', 'NOUN'), ('-LRB-', '.'), ('1.26', 'NUM'), ('cents', 'NOUN'), ('-RRB-', '.'), (',', '.'), ('at', 'ADP'), ('260', 'NUM'), ('pence', 'NOUN'), ('-LRB-', '.'), ('$', '.'), ('1.64', 'NUM'), ('*U*', 'X'), ('-RRB-', '.'), ('.', '.')], [('Petroleum', 'NOUN'), ('futures', 'NOUN'), ('were', 'VERB'), ('generally', 'ADV'), ('higher', 'ADJ'), ('with', 'ADP'), ('heating', 'NOUN'), ('oil', 'NOUN'), ('leading', 'VERB'), ('the', 'DET'), ('way', 'NOUN'), ('.', '.')], [('In', 'ADP'), ('American', 'NOUN'), ('Stock', 'NOUN'), ('Exchange', 'NOUN'), ('composite', 'ADJ'), ('trading', 'NOUN'), (',', '.'), ('Citadel', 'NOUN'), ('shares', 'NOUN'), ('closed', 'VERB'), ('yesterday', 'NOUN'), ('at', 'ADP'), ('$', '.'), ('45.75', 'NUM'), ('*U*', 'X'), (',', '.'), ('down', 'ADV'), ('25', 'NUM'), ('cents', 'NOUN'), ('.', '.')], [('A', 'DET'), ('painting', 'NOUN'), ('by', 'ADP'), ('August', 'NOUN'), ('Strindberg', 'NOUN'), ('set', 'VERB'), ('a', 'DET'), ('Scandinavian', 'ADJ'), ('price', 'NOUN'), ('record', 'NOUN'), ('when', 'ADV'), ('it', 'PRON'), ('sold', 'VERB'), ('at', 'ADP'), ('auction', 'NOUN'), ('in', 'ADP'), ('Stockholm', 'NOUN'), ('for', 'ADP'), ('$', '.'), ('2.44', 'NUM'), ('million', 'NUM'), ('*U*', 'X'), ('*T*-1', 'X'), ('.', '.')]]\n"
     ]
    }
   ],
   "source": [
    "random.seed(1234)\n",
    "train_set, test_set = train_test_split(nltk_data,test_size=0.05)\n",
    "\n",
    "print(len(train_set))\n",
    "print(len(test_set))\n",
    "print(train_set[:40])"
   ]
  },
  {
   "cell_type": "code",
   "execution_count": 5,
   "metadata": {},
   "outputs": [
    {
     "data": {
      "text/plain": [
       "95785"
      ]
     },
     "execution_count": 5,
     "metadata": {},
     "output_type": "execute_result"
    }
   ],
   "source": [
    "#Getting the list of tagged words\n",
    "train_tagged_words = [tup for sent in train_set for tup in sent]\n",
    "len(train_tagged_words)"
   ]
  },
  {
   "cell_type": "code",
   "execution_count": 6,
   "metadata": {},
   "outputs": [
    {
     "data": {
      "text/plain": [
       "['Great',\n",
       " 'Northern',\n",
       " 'Nekoosa',\n",
       " ',',\n",
       " 'which',\n",
       " '*T*-1',\n",
       " 'surged',\n",
       " '20',\n",
       " '1\\\\/8',\n",
       " 'Tuesday']"
      ]
     },
     "execution_count": 6,
     "metadata": {},
     "output_type": "execute_result"
    }
   ],
   "source": [
    "#Tokens \n",
    "tokens = [pair[0] for pair in train_tagged_words]\n",
    "tokens[:10]"
   ]
  },
  {
   "cell_type": "code",
   "execution_count": 7,
   "metadata": {},
   "outputs": [
    {
     "name": "stdout",
     "output_type": "stream",
     "text": [
      "12121\n"
     ]
    }
   ],
   "source": [
    "#Vocabulary\n",
    "V = set(tokens)\n",
    "print(len(V))"
   ]
  },
  {
   "cell_type": "code",
   "execution_count": 8,
   "metadata": {},
   "outputs": [
    {
     "name": "stdout",
     "output_type": "stream",
     "text": [
      "12\n",
      "{'X', 'CONJ', 'ADJ', 'PRT', 'ADP', 'NOUN', 'NUM', 'PRON', 'VERB', 'ADV', '.', 'DET'}\n"
     ]
    }
   ],
   "source": [
    "#Number of tags\n",
    "T = set([pair[1] for pair in train_tagged_words])\n",
    "print(len(T))\n",
    "print(T)"
   ]
  },
  {
   "cell_type": "markdown",
   "metadata": {},
   "source": [
    "### Build the vanilla Viterbi based POS tagger"
   ]
  },
  {
   "cell_type": "code",
   "execution_count": 9,
   "metadata": {},
   "outputs": [],
   "source": [
    "#Computing P(w/t) and storing in T x V matrix\n",
    "t = len(T)\n",
    "v = len(V)\n",
    "w_given_t = np.zeros((t, v))"
   ]
  },
  {
   "cell_type": "code",
   "execution_count": 10,
   "metadata": {},
   "outputs": [],
   "source": [
    "#Compute word given tag - Emission Probability\n",
    "def word_given_tag(word, tag, train_bag = train_tagged_words):\n",
    "    tag_list = [pair for pair in train_bag if pair[1]==tag]\n",
    "    count_tag = len(tag_list)\n",
    "    w_given_tag_list = [pair[0] for pair in tag_list if pair[0]==word]\n",
    "    count_w_given_tag = len(w_given_tag_list)\n",
    "    \n",
    "    return (count_w_given_tag, count_tag)"
   ]
  },
  {
   "cell_type": "code",
   "execution_count": 11,
   "metadata": {},
   "outputs": [],
   "source": [
    "#Compute tag given tag - tag2(t2) given tag1 (t1); i.e. Transition Probability\n",
    "\n",
    "def t2_given_t1(t2, t1, train_bag = train_tagged_words):\n",
    "    tags = [pair[1] for pair in train_bag]\n",
    "    count_t1 = len([t for t in tags if t==t1])\n",
    "    count_t2_t1 = 0\n",
    "    for index in range(len(tags)-1):\n",
    "        if tags[index]==t1 and tags[index+1] == t2:\n",
    "            count_t2_t1 += 1\n",
    "    return (count_t2_t1, count_t1)"
   ]
  },
  {
   "cell_type": "code",
   "execution_count": 12,
   "metadata": {},
   "outputs": [
    {
     "data": {
      "text/plain": [
       "array([[7.51903579e-02, 1.03109134e-02, 1.64974611e-02, 1.85596451e-01,\n",
       "        1.44511417e-01, 6.28172606e-02, 2.69670039e-03, 5.45685291e-02,\n",
       "        2.03045681e-01, 2.55393405e-02, 1.64340109e-01, 5.48857860e-02],\n",
       "       [8.76788143e-03, 4.61467454e-04, 1.19058609e-01, 5.07614203e-03,\n",
       "        5.26072904e-02, 3.45639139e-01, 4.10706028e-02, 5.90678342e-02,\n",
       "        1.59667745e-01, 5.58375642e-02, 3.46100591e-02, 1.18135668e-01],\n",
       "       [2.12520584e-02, 1.72981881e-02, 6.73805624e-02, 1.05436575e-02,\n",
       "        7.66062587e-02, 6.99176252e-01, 2.07578260e-02, 6.58978592e-04,\n",
       "        1.25205927e-02, 4.77759494e-03, 6.44151568e-02, 4.61285003e-03],\n",
       "       [1.30123617e-02, 2.27716332e-03, 8.42550397e-02, 1.95185421e-03,\n",
       "        2.11450886e-02, 2.49186724e-01, 5.66037744e-02, 1.75666884e-02,\n",
       "        3.99804801e-01, 9.75927152e-03, 4.32661027e-02, 1.01171114e-01],\n",
       "       [3.38458270e-02, 8.54153302e-04, 1.06021784e-01, 1.17446086e-03,\n",
       "        1.66559890e-02, 3.22229326e-01, 6.28870353e-02, 6.85458034e-02,\n",
       "        8.43476411e-03, 1.32393762e-02, 4.00384367e-02, 3.26073021e-01],\n",
       "       [2.91357487e-02, 4.27033305e-02, 1.19671179e-02, 4.39764298e-02,\n",
       "        1.76560447e-01, 2.65058935e-01, 9.20267683e-03, 4.61952575e-03,\n",
       "        1.47170082e-01, 1.69503856e-02, 2.39560604e-01, 1.30947186e-02],\n",
       "       [2.09639266e-01, 1.36014195e-02, 3.22294496e-02, 2.74985209e-02,\n",
       "        3.48905958e-02, 3.51271451e-01, 1.88054413e-01, 1.47841510e-03,\n",
       "        1.77409817e-02, 2.66114715e-03, 1.17681846e-01, 3.25251324e-03],\n",
       "       [9.47449207e-02, 4.98657441e-03, 7.21135437e-02, 1.15074795e-02,\n",
       "        2.30149589e-02, 2.09436134e-01, 6.90448796e-03, 7.28807040e-03,\n",
       "        4.84081328e-01, 3.49060223e-02, 4.14269269e-02, 9.58956685e-03],\n",
       "       [2.18391702e-01, 5.57793630e-03, 6.49984479e-02, 3.16083059e-02,\n",
       "        9.19584781e-02, 1.10784009e-01, 2.33188719e-02, 3.57142873e-02,\n",
       "        1.68267742e-01, 8.08800757e-02, 3.50170434e-02, 1.33483112e-01],\n",
       "       [2.40722168e-02, 7.35539943e-03, 1.28050819e-01, 1.40421260e-02,\n",
       "        1.19692408e-01, 3.17619517e-02, 3.14276144e-02, 1.57138072e-02,\n",
       "        3.46372455e-01, 7.92377144e-02, 1.35740548e-01, 6.65329322e-02],\n",
       "       [2.67480481e-02, 5.83430566e-02, 4.44304831e-02, 2.51323939e-03,\n",
       "        8.99380669e-02, 2.22690955e-01, 8.12314898e-02, 6.68701157e-02,\n",
       "        8.91302377e-02, 5.17009236e-02, 9.33488905e-02, 1.72964722e-01],\n",
       "       [4.57563698e-02, 4.82916832e-04, 2.05722570e-01, 2.41458416e-04,\n",
       "        9.17541981e-03, 6.38778210e-01, 2.17312574e-02, 3.74260545e-03,\n",
       "        3.97199094e-02, 1.24351084e-02, 1.70228183e-02, 5.19135594e-03]],\n",
       "      dtype=float32)"
      ]
     },
     "execution_count": 12,
     "metadata": {},
     "output_type": "execute_result"
    }
   ],
   "source": [
    "tags_matrix = np.zeros((len(T), len(T)), dtype='float32')\n",
    "for i, t1 in enumerate(list(T)):\n",
    "    for j, t2 in enumerate(list(T)): \n",
    "        tags_matrix[i, j] = t2_given_t1(t2, t1)[0]/t2_given_t1(t2, t1)[1]\n",
    "\n",
    "tags_matrix"
   ]
  },
  {
   "cell_type": "code",
   "execution_count": 13,
   "metadata": {},
   "outputs": [
    {
     "data": {
      "text/html": [
       "<div>\n",
       "<style scoped>\n",
       "    .dataframe tbody tr th:only-of-type {\n",
       "        vertical-align: middle;\n",
       "    }\n",
       "\n",
       "    .dataframe tbody tr th {\n",
       "        vertical-align: top;\n",
       "    }\n",
       "\n",
       "    .dataframe thead th {\n",
       "        text-align: right;\n",
       "    }\n",
       "</style>\n",
       "<table border=\"1\" class=\"dataframe\">\n",
       "  <thead>\n",
       "    <tr style=\"text-align: right;\">\n",
       "      <th></th>\n",
       "      <th>X</th>\n",
       "      <th>CONJ</th>\n",
       "      <th>ADJ</th>\n",
       "      <th>PRT</th>\n",
       "      <th>ADP</th>\n",
       "      <th>NOUN</th>\n",
       "      <th>NUM</th>\n",
       "      <th>PRON</th>\n",
       "      <th>VERB</th>\n",
       "      <th>ADV</th>\n",
       "      <th>.</th>\n",
       "      <th>DET</th>\n",
       "    </tr>\n",
       "  </thead>\n",
       "  <tbody>\n",
       "    <tr>\n",
       "      <th>X</th>\n",
       "      <td>0.075190</td>\n",
       "      <td>0.010311</td>\n",
       "      <td>0.016497</td>\n",
       "      <td>0.185596</td>\n",
       "      <td>0.144511</td>\n",
       "      <td>0.062817</td>\n",
       "      <td>0.002697</td>\n",
       "      <td>0.054569</td>\n",
       "      <td>0.203046</td>\n",
       "      <td>0.025539</td>\n",
       "      <td>0.164340</td>\n",
       "      <td>0.054886</td>\n",
       "    </tr>\n",
       "    <tr>\n",
       "      <th>CONJ</th>\n",
       "      <td>0.008768</td>\n",
       "      <td>0.000461</td>\n",
       "      <td>0.119059</td>\n",
       "      <td>0.005076</td>\n",
       "      <td>0.052607</td>\n",
       "      <td>0.345639</td>\n",
       "      <td>0.041071</td>\n",
       "      <td>0.059068</td>\n",
       "      <td>0.159668</td>\n",
       "      <td>0.055838</td>\n",
       "      <td>0.034610</td>\n",
       "      <td>0.118136</td>\n",
       "    </tr>\n",
       "    <tr>\n",
       "      <th>ADJ</th>\n",
       "      <td>0.021252</td>\n",
       "      <td>0.017298</td>\n",
       "      <td>0.067381</td>\n",
       "      <td>0.010544</td>\n",
       "      <td>0.076606</td>\n",
       "      <td>0.699176</td>\n",
       "      <td>0.020758</td>\n",
       "      <td>0.000659</td>\n",
       "      <td>0.012521</td>\n",
       "      <td>0.004778</td>\n",
       "      <td>0.064415</td>\n",
       "      <td>0.004613</td>\n",
       "    </tr>\n",
       "    <tr>\n",
       "      <th>PRT</th>\n",
       "      <td>0.013012</td>\n",
       "      <td>0.002277</td>\n",
       "      <td>0.084255</td>\n",
       "      <td>0.001952</td>\n",
       "      <td>0.021145</td>\n",
       "      <td>0.249187</td>\n",
       "      <td>0.056604</td>\n",
       "      <td>0.017567</td>\n",
       "      <td>0.399805</td>\n",
       "      <td>0.009759</td>\n",
       "      <td>0.043266</td>\n",
       "      <td>0.101171</td>\n",
       "    </tr>\n",
       "    <tr>\n",
       "      <th>ADP</th>\n",
       "      <td>0.033846</td>\n",
       "      <td>0.000854</td>\n",
       "      <td>0.106022</td>\n",
       "      <td>0.001174</td>\n",
       "      <td>0.016656</td>\n",
       "      <td>0.322229</td>\n",
       "      <td>0.062887</td>\n",
       "      <td>0.068546</td>\n",
       "      <td>0.008435</td>\n",
       "      <td>0.013239</td>\n",
       "      <td>0.040038</td>\n",
       "      <td>0.326073</td>\n",
       "    </tr>\n",
       "    <tr>\n",
       "      <th>NOUN</th>\n",
       "      <td>0.029136</td>\n",
       "      <td>0.042703</td>\n",
       "      <td>0.011967</td>\n",
       "      <td>0.043976</td>\n",
       "      <td>0.176560</td>\n",
       "      <td>0.265059</td>\n",
       "      <td>0.009203</td>\n",
       "      <td>0.004620</td>\n",
       "      <td>0.147170</td>\n",
       "      <td>0.016950</td>\n",
       "      <td>0.239561</td>\n",
       "      <td>0.013095</td>\n",
       "    </tr>\n",
       "    <tr>\n",
       "      <th>NUM</th>\n",
       "      <td>0.209639</td>\n",
       "      <td>0.013601</td>\n",
       "      <td>0.032229</td>\n",
       "      <td>0.027499</td>\n",
       "      <td>0.034891</td>\n",
       "      <td>0.351271</td>\n",
       "      <td>0.188054</td>\n",
       "      <td>0.001478</td>\n",
       "      <td>0.017741</td>\n",
       "      <td>0.002661</td>\n",
       "      <td>0.117682</td>\n",
       "      <td>0.003253</td>\n",
       "    </tr>\n",
       "    <tr>\n",
       "      <th>PRON</th>\n",
       "      <td>0.094745</td>\n",
       "      <td>0.004987</td>\n",
       "      <td>0.072114</td>\n",
       "      <td>0.011507</td>\n",
       "      <td>0.023015</td>\n",
       "      <td>0.209436</td>\n",
       "      <td>0.006904</td>\n",
       "      <td>0.007288</td>\n",
       "      <td>0.484081</td>\n",
       "      <td>0.034906</td>\n",
       "      <td>0.041427</td>\n",
       "      <td>0.009590</td>\n",
       "    </tr>\n",
       "    <tr>\n",
       "      <th>VERB</th>\n",
       "      <td>0.218392</td>\n",
       "      <td>0.005578</td>\n",
       "      <td>0.064998</td>\n",
       "      <td>0.031608</td>\n",
       "      <td>0.091958</td>\n",
       "      <td>0.110784</td>\n",
       "      <td>0.023319</td>\n",
       "      <td>0.035714</td>\n",
       "      <td>0.168268</td>\n",
       "      <td>0.080880</td>\n",
       "      <td>0.035017</td>\n",
       "      <td>0.133483</td>\n",
       "    </tr>\n",
       "    <tr>\n",
       "      <th>ADV</th>\n",
       "      <td>0.024072</td>\n",
       "      <td>0.007355</td>\n",
       "      <td>0.128051</td>\n",
       "      <td>0.014042</td>\n",
       "      <td>0.119692</td>\n",
       "      <td>0.031762</td>\n",
       "      <td>0.031428</td>\n",
       "      <td>0.015714</td>\n",
       "      <td>0.346372</td>\n",
       "      <td>0.079238</td>\n",
       "      <td>0.135741</td>\n",
       "      <td>0.066533</td>\n",
       "    </tr>\n",
       "    <tr>\n",
       "      <th>.</th>\n",
       "      <td>0.026748</td>\n",
       "      <td>0.058343</td>\n",
       "      <td>0.044430</td>\n",
       "      <td>0.002513</td>\n",
       "      <td>0.089938</td>\n",
       "      <td>0.222691</td>\n",
       "      <td>0.081231</td>\n",
       "      <td>0.066870</td>\n",
       "      <td>0.089130</td>\n",
       "      <td>0.051701</td>\n",
       "      <td>0.093349</td>\n",
       "      <td>0.172965</td>\n",
       "    </tr>\n",
       "    <tr>\n",
       "      <th>DET</th>\n",
       "      <td>0.045756</td>\n",
       "      <td>0.000483</td>\n",
       "      <td>0.205723</td>\n",
       "      <td>0.000241</td>\n",
       "      <td>0.009175</td>\n",
       "      <td>0.638778</td>\n",
       "      <td>0.021731</td>\n",
       "      <td>0.003743</td>\n",
       "      <td>0.039720</td>\n",
       "      <td>0.012435</td>\n",
       "      <td>0.017023</td>\n",
       "      <td>0.005191</td>\n",
       "    </tr>\n",
       "  </tbody>\n",
       "</table>\n",
       "</div>"
      ],
      "text/plain": [
       "             X      CONJ       ADJ       PRT       ADP      NOUN       NUM  \\\n",
       "X     0.075190  0.010311  0.016497  0.185596  0.144511  0.062817  0.002697   \n",
       "CONJ  0.008768  0.000461  0.119059  0.005076  0.052607  0.345639  0.041071   \n",
       "ADJ   0.021252  0.017298  0.067381  0.010544  0.076606  0.699176  0.020758   \n",
       "PRT   0.013012  0.002277  0.084255  0.001952  0.021145  0.249187  0.056604   \n",
       "ADP   0.033846  0.000854  0.106022  0.001174  0.016656  0.322229  0.062887   \n",
       "NOUN  0.029136  0.042703  0.011967  0.043976  0.176560  0.265059  0.009203   \n",
       "NUM   0.209639  0.013601  0.032229  0.027499  0.034891  0.351271  0.188054   \n",
       "PRON  0.094745  0.004987  0.072114  0.011507  0.023015  0.209436  0.006904   \n",
       "VERB  0.218392  0.005578  0.064998  0.031608  0.091958  0.110784  0.023319   \n",
       "ADV   0.024072  0.007355  0.128051  0.014042  0.119692  0.031762  0.031428   \n",
       ".     0.026748  0.058343  0.044430  0.002513  0.089938  0.222691  0.081231   \n",
       "DET   0.045756  0.000483  0.205723  0.000241  0.009175  0.638778  0.021731   \n",
       "\n",
       "          PRON      VERB       ADV         .       DET  \n",
       "X     0.054569  0.203046  0.025539  0.164340  0.054886  \n",
       "CONJ  0.059068  0.159668  0.055838  0.034610  0.118136  \n",
       "ADJ   0.000659  0.012521  0.004778  0.064415  0.004613  \n",
       "PRT   0.017567  0.399805  0.009759  0.043266  0.101171  \n",
       "ADP   0.068546  0.008435  0.013239  0.040038  0.326073  \n",
       "NOUN  0.004620  0.147170  0.016950  0.239561  0.013095  \n",
       "NUM   0.001478  0.017741  0.002661  0.117682  0.003253  \n",
       "PRON  0.007288  0.484081  0.034906  0.041427  0.009590  \n",
       "VERB  0.035714  0.168268  0.080880  0.035017  0.133483  \n",
       "ADV   0.015714  0.346372  0.079238  0.135741  0.066533  \n",
       ".     0.066870  0.089130  0.051701  0.093349  0.172965  \n",
       "DET   0.003743  0.039720  0.012435  0.017023  0.005191  "
      ]
     },
     "execution_count": 13,
     "metadata": {},
     "output_type": "execute_result"
    }
   ],
   "source": [
    "tags_df = pd.DataFrame(tags_matrix, columns = list(T), index=list(T))\n",
    "tags_df"
   ]
  },
  {
   "cell_type": "code",
   "execution_count": 14,
   "metadata": {},
   "outputs": [
    {
     "data": {
      "text/plain": [
       "X       0.026748\n",
       "CONJ    0.058343\n",
       "ADJ     0.044430\n",
       "PRT     0.002513\n",
       "ADP     0.089938\n",
       "NOUN    0.222691\n",
       "NUM     0.081231\n",
       "PRON    0.066870\n",
       "VERB    0.089130\n",
       "ADV     0.051701\n",
       ".       0.093349\n",
       "DET     0.172965\n",
       "Name: ., dtype: float32"
      ]
     },
     "execution_count": 14,
     "metadata": {},
     "output_type": "execute_result"
    }
   ],
   "source": [
    "tags_df.loc['.', :]"
   ]
  },
  {
   "cell_type": "code",
   "execution_count": 15,
   "metadata": {},
   "outputs": [
    {
     "data": {
      "image/png": "[encoded data removed]",
      "text/plain": [
       "<Figure size 1296x864 with 2 Axes>"
      ]
     },
     "metadata": {
      "needs_background": "light"
     },
     "output_type": "display_data"
    }
   ],
   "source": [
    "#Heatmap of tags matrix\n",
    "#T(i, j) means P(tag j given tag i)\n",
    "plt.figure(figsize=(18, 12))\n",
    "sns.heatmap(tags_df)\n",
    "plt.show()"
   ]
  },
  {
   "cell_type": "code",
   "execution_count": 16,
   "metadata": {},
   "outputs": [
    {
     "data": {
      "image/png": "[encoded data removed]",
      "text/plain": [
       "<Figure size 1296x864 with 2 Axes>"
      ]
     },
     "metadata": {
      "needs_background": "light"
     },
     "output_type": "display_data"
    }
   ],
   "source": [
    "#Frequent tags\n",
    "#Filtering the df to get P(t2, t1) > 0.25\n",
    "tags_frequent = tags_df[tags_df>0.25]\n",
    "plt.figure(figsize=(18, 12))\n",
    "sns.heatmap(tags_frequent)\n",
    "plt.show()"
   ]
  },
  {
   "cell_type": "code",
   "execution_count": 17,
   "metadata": {},
   "outputs": [
    {
     "data": {
      "text/plain": [
       "95785"
      ]
     },
     "execution_count": 17,
     "metadata": {},
     "output_type": "execute_result"
    }
   ],
   "source": [
    "len(train_tagged_words)"
   ]
  },
  {
   "cell_type": "code",
   "execution_count": 18,
   "metadata": {},
   "outputs": [],
   "source": [
    "#Viterbi Heuristic\n",
    "def Viterbi(words, train_bag = train_tagged_words):\n",
    "    state = []\n",
    "    T = list(set([pair[1] for pair in train_bag]))\n",
    "    \n",
    "    for key, word in enumerate(words):\n",
    "        #initialise list of probability column for a given observation\n",
    "        p = [] \n",
    "        for tag in T:\n",
    "            if key == 0:\n",
    "                transition_p = tags_df.loc['.', tag]\n",
    "            else:\n",
    "                transition_p = tags_df.loc[state[-1], tag]\n",
    "                \n",
    "            # compute emission and state probabilities\n",
    "            emission_p = word_given_tag(words[key], tag)[0]/word_given_tag(words[key], tag)[1]\n",
    "            state_probability = emission_p * transition_p    \n",
    "            p.append(state_probability)\n",
    "            \n",
    "        pmax = max(p)\n",
    "        # getting state for which probability is maximum\n",
    "        state_max = T[p.index(pmax)] \n",
    "        state.append(state_max)\n",
    "    return list(zip(words, state))"
   ]
  },
  {
   "cell_type": "code",
   "execution_count": 19,
   "metadata": {},
   "outputs": [
    {
     "data": {
      "text/plain": [
       "[[('He', 'PRON'),\n",
       "  ('and', 'CONJ'),\n",
       "  ('other', 'ADJ'),\n",
       "  ('critics', 'NOUN'),\n",
       "  ('say', 'VERB'),\n",
       "  ('0', 'X'),\n",
       "  ('such', 'ADJ'),\n",
       "  ('coaching', 'NOUN'),\n",
       "  ('aids', 'NOUN'),\n",
       "  ('can', 'VERB'),\n",
       "  ('defeat', 'VERB'),\n",
       "  ('the', 'DET'),\n",
       "  ('purpose', 'NOUN'),\n",
       "  ('of', 'ADP'),\n",
       "  ('standardized', 'ADJ'),\n",
       "  ('tests', 'NOUN'),\n",
       "  (',', '.'),\n",
       "  ('which', 'DET'),\n",
       "  ('*T*-104', 'X'),\n",
       "  ('is', 'VERB'),\n",
       "  ('*', 'X'),\n",
       "  ('to', 'PRT'),\n",
       "  ('gauge', 'VERB'),\n",
       "  ('learning', 'NOUN'),\n",
       "  ('progress', 'NOUN'),\n",
       "  ('.', '.')],\n",
       " [('Many', 'ADJ'),\n",
       "  ('colleagues', 'NOUN'),\n",
       "  ('are', 'VERB'),\n",
       "  ('angry', 'ADJ'),\n",
       "  ('at', 'ADP'),\n",
       "  ('Mrs.', 'NOUN'),\n",
       "  ('Yeargin', 'NOUN'),\n",
       "  ('.', '.')],\n",
       " [('``', '.'),\n",
       "  ('In', 'ADP'),\n",
       "  ('Asia', 'NOUN'),\n",
       "  (',', '.'),\n",
       "  ('as', 'ADP'),\n",
       "  ('in', 'ADP'),\n",
       "  ('Europe', 'NOUN'),\n",
       "  (',', '.'),\n",
       "  ('a', 'DET'),\n",
       "  ('new', 'ADJ'),\n",
       "  ('order', 'NOUN'),\n",
       "  ('is', 'VERB'),\n",
       "  ('taking', 'VERB'),\n",
       "  ('shape', 'NOUN'),\n",
       "  (',', '.'),\n",
       "  (\"''\", '.'),\n",
       "  ('Mr.', 'NOUN'),\n",
       "  ('Baker', 'NOUN'),\n",
       "  ('said', 'VERB'),\n",
       "  ('0', 'X'),\n",
       "  ('*T*-1', 'X'),\n",
       "  ('.', '.')],\n",
       " [('Card', 'NOUN'),\n",
       "  ('holders', 'NOUN'),\n",
       "  ('who', 'PRON'),\n",
       "  ('*T*-59', 'X'),\n",
       "  ('receive', 'VERB'),\n",
       "  ('the', 'DET'),\n",
       "  ('letter', 'NOUN'),\n",
       "  ('also', 'ADV'),\n",
       "  ('are', 'VERB'),\n",
       "  ('eligible', 'ADJ'),\n",
       "  ('for', 'ADP'),\n",
       "  ('a', 'DET'),\n",
       "  ('sweepstakes', 'NOUN'),\n",
       "  ('with', 'ADP'),\n",
       "  ('Buick', 'NOUN'),\n",
       "  ('cars', 'NOUN'),\n",
       "  ('or', 'CONJ'),\n",
       "  ('a', 'DET'),\n",
       "  ('Hawaii', 'NOUN'),\n",
       "  ('vacation', 'NOUN'),\n",
       "  ('as', 'ADP'),\n",
       "  ('prizes', 'NOUN'),\n",
       "  ('.', '.')],\n",
       " [('In', 'ADP'),\n",
       "  ('early', 'ADV'),\n",
       "  ('trading', 'NOUN'),\n",
       "  ('in', 'ADP'),\n",
       "  ('Hong', 'NOUN'),\n",
       "  ('Kong', 'NOUN'),\n",
       "  ('Thursday', 'NOUN'),\n",
       "  (',', '.'),\n",
       "  ('gold', 'NOUN'),\n",
       "  ('was', 'VERB'),\n",
       "  ('quoted', 'VERB'),\n",
       "  ('*-1', 'X'),\n",
       "  ('at', 'ADP'),\n",
       "  ('$', '.'),\n",
       "  ('374.19', 'NUM'),\n",
       "  ('*U*', 'X'),\n",
       "  ('an', 'DET'),\n",
       "  ('ounce', 'NOUN'),\n",
       "  ('.', '.')]]"
      ]
     },
     "execution_count": 19,
     "metadata": {},
     "output_type": "execute_result"
    }
   ],
   "source": [
    "#Running on entire test dataset would take more than 3-4hrs. Let's test our Viterbi algorithm on a few sample sentences of test dataset\n",
    "random.seed(1234)\n",
    "\n",
    "#Choose random 5 sents\n",
    "rndom = [random.randint(1,len(test_set)) for x in range(5)]\n",
    "\n",
    "#List of sents\n",
    "test_run = [test_set[i] for i in rndom]\n",
    "\n",
    "#List of tagged words\n",
    "test_run_base = [tup for sent in test_run for tup in sent]\n",
    "\n",
    "#List of untagged words\n",
    "test_tagged_words = [tup[0] for sent in test_run for tup in sent]\n",
    "test_run"
   ]
  },
  {
   "cell_type": "code",
   "execution_count": 20,
   "metadata": {},
   "outputs": [
    {
     "name": "stdout",
     "output_type": "stream",
     "text": [
      "Time taken in seconds:  19.049398183822632\n",
      "[('He', 'PRON'), ('and', 'CONJ'), ('other', 'ADJ'), ('critics', 'NOUN'), ('say', 'VERB'), ('0', 'X'), ('such', 'ADJ'), ('coaching', 'X'), ('aids', 'X'), ('can', 'VERB'), ('defeat', 'NOUN'), ('the', 'DET'), ('purpose', 'NOUN'), ('of', 'ADP'), ('standardized', 'ADJ'), ('tests', 'NOUN'), (',', '.'), ('which', 'DET'), ('*T*-104', 'X'), ('is', 'VERB'), ('*', 'X'), ('to', 'PRT'), ('gauge', 'VERB'), ('learning', 'X'), ('progress', 'NOUN'), ('.', '.'), ('Many', 'ADJ'), ('colleagues', 'NOUN'), ('are', 'VERB'), ('angry', 'ADJ'), ('at', 'ADP'), ('Mrs.', 'NOUN'), ('Yeargin', 'NOUN'), ('.', '.'), ('``', '.'), ('In', 'ADP'), ('Asia', 'NOUN'), (',', '.'), ('as', 'ADP'), ('in', 'ADP'), ('Europe', 'NOUN'), (',', '.'), ('a', 'DET'), ('new', 'ADJ'), ('order', 'NOUN'), ('is', 'VERB'), ('taking', 'VERB'), ('shape', 'NOUN'), (',', '.'), (\"''\", '.'), ('Mr.', 'NOUN'), ('Baker', 'NOUN'), ('said', 'VERB'), ('0', 'X'), ('*T*-1', 'X'), ('.', '.'), ('Card', 'X'), ('holders', 'NOUN'), ('who', 'PRON'), ('*T*-59', 'X'), ('receive', 'VERB'), ('the', 'DET'), ('letter', 'NOUN'), ('also', 'ADV'), ('are', 'VERB'), ('eligible', 'ADJ'), ('for', 'ADP'), ('a', 'DET'), ('sweepstakes', 'X'), ('with', 'ADP'), ('Buick', 'NOUN'), ('cars', 'NOUN'), ('or', 'CONJ'), ('a', 'DET'), ('Hawaii', 'NOUN'), ('vacation', 'NOUN'), ('as', 'ADP'), ('prizes', 'X'), ('.', '.'), ('In', 'ADP'), ('early', 'ADJ'), ('trading', 'NOUN'), ('in', 'ADP'), ('Hong', 'NOUN'), ('Kong', 'NOUN'), ('Thursday', 'NOUN'), (',', '.'), ('gold', 'NOUN'), ('was', 'VERB'), ('quoted', 'VERB'), ('*-1', 'X'), ('at', 'ADP'), ('$', '.'), ('374.19', 'X'), ('*U*', 'X'), ('an', 'DET'), ('ounce', 'NOUN'), ('.', '.')]\n"
     ]
    }
   ],
   "source": [
    "#Tagging the test sentences\n",
    "start = time.time()\n",
    "tagged_seq = Viterbi(test_tagged_words)\n",
    "end = time.time()\n",
    "difference = end-start\n",
    "print(\"Time taken in seconds: \", difference)\n",
    "print(tagged_seq)"
   ]
  },
  {
   "cell_type": "code",
   "execution_count": 21,
   "metadata": {},
   "outputs": [
    {
     "data": {
      "text/plain": [
       "0.9081632653061225"
      ]
     },
     "execution_count": 21,
     "metadata": {},
     "output_type": "execute_result"
    }
   ],
   "source": [
    "#Accuracy for Vanilla Viterbi\n",
    "check = [i for i, j in zip(tagged_seq, test_run_base) if i == j] \n",
    "vannila_viterbi_accuracy = len(check)/len(tagged_seq)\n",
    "vannila_viterbi_accuracy"
   ]
  },
  {
   "cell_type": "code",
   "execution_count": 22,
   "metadata": {},
   "outputs": [
    {
     "data": {
      "text/plain": [
       "[[('such', 'ADJ'), (('coaching', 'X'), ('coaching', 'NOUN'))],\n",
       " [('coaching', 'NOUN'), (('aids', 'X'), ('aids', 'NOUN'))],\n",
       " [('can', 'VERB'), (('defeat', 'NOUN'), ('defeat', 'VERB'))],\n",
       " [('gauge', 'VERB'), (('learning', 'X'), ('learning', 'NOUN'))],\n",
       " [('.', '.'), (('Card', 'X'), ('Card', 'NOUN'))],\n",
       " [('a', 'DET'), (('sweepstakes', 'X'), ('sweepstakes', 'NOUN'))],\n",
       " [('as', 'ADP'), (('prizes', 'X'), ('prizes', 'NOUN'))],\n",
       " [('In', 'ADP'), (('early', 'ADJ'), ('early', 'ADV'))],\n",
       " [('$', '.'), (('374.19', 'X'), ('374.19', 'NUM'))]]"
      ]
     },
     "execution_count": 22,
     "metadata": {},
     "output_type": "execute_result"
    }
   ],
   "source": [
    "#Incorrectly tagged cases\n",
    "incorrect_tagged_cases1 = [[test_run_base[i-1],j] for i, j in enumerate(zip(tagged_seq, test_run_base)) if j[0]!=j[1]]\n",
    "incorrect_tagged_cases1"
   ]
  },
  {
   "cell_type": "code",
   "execution_count": 23,
   "metadata": {
    "scrolled": false
   },
   "outputs": [
    {
     "name": "stdout",
     "output_type": "stream",
     "text": [
      "[('Android', 'X'), ('is', 'VERB'), ('a', 'DET'), ('mobile', 'ADJ'), ('operating', 'NOUN'), ('system', 'NOUN'), ('developed', 'VERB'), ('by', 'ADP'), ('Google', 'X'), ('.', '.'), ('Android', 'X'), ('has', 'VERB'), ('been', 'VERB'), ('the', 'DET'), ('best-selling', 'ADJ'), ('OS', 'X'), ('worldwide', 'X'), ('on', 'ADP'), ('smartphones', 'X'), ('since', 'ADP'), ('2011', 'X'), ('and', 'CONJ'), ('on', 'ADP'), ('tablets', 'NOUN'), ('since', 'ADP'), ('2013', 'X'), ('.', '.'), ('Google', 'X'), ('and', 'CONJ'), ('Twitter', 'X'), ('made', 'VERB'), ('a', 'DET'), ('deal', 'NOUN'), ('in', 'ADP'), ('2015', 'X'), ('that', 'ADP'), ('gave', 'VERB'), ('Google', 'X'), ('access', 'NOUN'), ('to', 'PRT'), ('Twitter', 'X'), (\"'s\", 'PRT'), ('firehose', 'X'), ('.', '.'), ('Twitter', 'X'), ('is', 'VERB'), ('an', 'DET'), ('online', 'X'), ('news', 'NOUN'), ('and', 'CONJ'), ('social', 'ADJ'), ('networking', 'NOUN'), ('service', 'NOUN'), ('on', 'ADP'), ('which', 'DET'), ('users', 'NOUN'), ('post', 'NOUN'), ('and', 'CONJ'), ('interact', 'X'), ('with', 'ADP'), ('messages', 'X'), ('known', 'VERB'), ('as', 'ADP'), ('tweets', 'X'), ('.', '.'), ('Before', 'ADP'), ('entering', 'VERB'), ('politics', 'NOUN'), (',', '.'), ('Donald', 'NOUN'), ('Trump', 'NOUN'), ('was', 'VERB'), ('a', 'DET'), ('domineering', 'X'), ('businessman', 'NOUN'), ('and', 'CONJ'), ('a', 'DET'), ('television', 'NOUN'), ('personality', 'X'), ('.', '.'), ('The', 'DET'), ('2018', 'X'), ('FIFA', 'X'), ('World', 'NOUN'), ('Cup', 'X'), ('is', 'VERB'), ('the', 'DET'), ('21st', 'X'), ('FIFA', 'X'), ('World', 'NOUN'), ('Cup', 'X'), (',', '.'), ('an', 'DET'), ('international', 'ADJ'), ('football', 'NOUN'), ('tournament', 'X'), ('contested', 'X'), ('once', 'ADV'), ('every', 'DET'), ('four', 'NUM'), ('years', 'NOUN'), ('.', '.'), ('This', 'DET'), ('is', 'VERB'), ('the', 'DET'), ('first', 'ADJ'), ('World', 'NOUN'), ('Cup', 'X'), ('to', 'PRT'), ('be', 'VERB'), ('held', 'VERB'), ('in', 'ADP'), ('Eastern', 'NOUN'), ('Europe', 'NOUN'), ('and', 'CONJ'), ('the', 'DET'), ('11th', 'ADJ'), ('time', 'NOUN'), ('that', 'ADP'), ('it', 'PRON'), ('has', 'VERB'), ('been', 'VERB'), ('held', 'VERB'), ('in', 'ADP'), ('Europe', 'NOUN'), ('.', '.'), ('Show', 'NOUN'), ('me', 'PRON'), ('the', 'DET'), ('cheapest', 'ADJ'), ('round', 'NOUN'), ('trips', 'X'), ('from', 'ADP'), ('Dallas', 'NOUN'), ('to', 'PRT'), ('Atlanta', 'NOUN'), ('I', 'PRON'), ('would', 'VERB'), ('like', 'ADP'), ('to', 'PRT'), ('see', 'VERB'), ('flights', 'NOUN'), ('from', 'ADP'), ('Denver', 'NOUN'), ('to', 'PRT'), ('Philadelphia', 'NOUN'), ('.', '.'), ('Show', 'NOUN'), ('me', 'PRON'), ('the', 'DET'), ('price', 'NOUN'), ('of', 'ADP'), ('the', 'DET'), ('flights', 'NOUN'), ('leaving', 'VERB'), ('Atlanta', 'NOUN'), ('at', 'ADP'), ('about', 'ADP'), ('3', 'NUM'), ('in', 'ADP'), ('the', 'DET'), ('afternoon', 'NOUN'), ('and', 'CONJ'), ('arriving', 'X'), ('in', 'ADP'), ('San', 'NOUN'), ('Francisco', 'NOUN'), ('.', '.'), ('NASA', 'X'), ('invited', 'X'), ('social', 'ADJ'), ('media', 'NOUN'), ('users', 'NOUN'), ('to', 'PRT'), ('experience', 'NOUN'), ('the', 'DET'), ('launch', 'NOUN'), ('of', 'ADP'), ('ICESAT-2', 'X'), ('Satellite', 'X'), ('.', '.')]\n",
      "35.50779604911804\n"
     ]
    }
   ],
   "source": [
    "#Running on the sample text file\n",
    "sentence_test = open('Test_sentences.txt',mode='r').read()\n",
    "words = word_tokenize(sentence_test)\n",
    "\n",
    "start = time.time()\n",
    "tagged_seq = Viterbi(words)\n",
    "end = time.time()\n",
    "difference = end-start\n",
    "\n",
    "print(tagged_seq)\n",
    "print(difference)\n",
    "vannila_test_tagged_seq = tagged_seq"
   ]
  },
  {
   "cell_type": "markdown",
   "metadata": {},
   "source": [
    "### Solve the problem of unknown words"
   ]
  },
  {
   "cell_type": "markdown",
   "metadata": {},
   "source": [
    "##### Modification 1 : Rule Based Tagging with Viterbi"
   ]
  },
  {
   "cell_type": "code",
   "execution_count": 24,
   "metadata": {},
   "outputs": [],
   "source": [
    "pattern = [\n",
    "        (r'.*Twitter$', 'NOUN'), \n",
    "        (r'.*Android$', 'NOUN'),\n",
    "        (r'.*Google$', 'NOUN'),\n",
    "        (r'[-+]?\\d*\\.\\d+|\\d+', 'NUM'), #Number with floating values\n",
    "        (r'.*es$', 'VERB'), \n",
    "        (r'.*ing$', 'VERB'), #Gerunds or continuous tense\n",
    "        (r'.*ed$', 'VERB'),  #Past perfect tense\n",
    "        (r'[A-Z ]+', 'NOUN'),  #All caps eg. FIFA, NASA, etc\n",
    "        (r'.*', 'NOUN'), #Default value as NOUN\n",
    "]\n",
    "\n",
    "def rule_based_tagging(word, pattern):\n",
    "    regexp_tagger = nltk.RegexpTagger(pattern)\n",
    "    kv = regexp_tagger.tag(nltk.word_tokenize(word))\n",
    "    for v in kv:\n",
    "        print(word)\n",
    "        print(v[1])\n",
    "        return v[1]"
   ]
  },
  {
   "cell_type": "code",
   "execution_count": 25,
   "metadata": {},
   "outputs": [
    {
     "name": "stdout",
     "output_type": "stream",
     "text": [
      "coaching\n",
      "VERB\n",
      "aids\n",
      "NOUN\n",
      "*T*-104\n",
      "NOUN\n",
      "learning\n",
      "VERB\n",
      "Card\n",
      "NOUN\n",
      "sweepstakes\n",
      "VERB\n",
      "prizes\n",
      "VERB\n",
      "374.19\n",
      "NUM\n",
      "Time taken in seconds:  18.711220502853394\n",
      "[('He', 'PRON'), ('and', 'CONJ'), ('other', 'ADJ'), ('critics', 'NOUN'), ('say', 'VERB'), ('0', 'X'), ('such', 'ADJ'), ('coaching', 'VERB'), ('aids', 'NOUN'), ('can', 'VERB'), ('defeat', 'NOUN'), ('the', 'DET'), ('purpose', 'NOUN'), ('of', 'ADP'), ('standardized', 'ADJ'), ('tests', 'NOUN'), (',', '.'), ('which', 'DET'), ('*T*-104', 'NOUN'), ('is', 'VERB'), ('*', 'X'), ('to', 'PRT'), ('gauge', 'VERB'), ('learning', 'VERB'), ('progress', 'NOUN'), ('.', '.'), ('Many', 'ADJ'), ('colleagues', 'NOUN'), ('are', 'VERB'), ('angry', 'ADJ'), ('at', 'ADP'), ('Mrs.', 'NOUN'), ('Yeargin', 'NOUN'), ('.', '.'), ('``', '.'), ('In', 'ADP'), ('Asia', 'NOUN'), (',', '.'), ('as', 'ADP'), ('in', 'ADP'), ('Europe', 'NOUN'), (',', '.'), ('a', 'DET'), ('new', 'ADJ'), ('order', 'NOUN'), ('is', 'VERB'), ('taking', 'VERB'), ('shape', 'NOUN'), (',', '.'), (\"''\", '.'), ('Mr.', 'NOUN'), ('Baker', 'NOUN'), ('said', 'VERB'), ('0', 'X'), ('*T*-1', 'X'), ('.', '.'), ('Card', 'NOUN'), ('holders', 'NOUN'), ('who', 'PRON'), ('*T*-59', 'X'), ('receive', 'VERB'), ('the', 'DET'), ('letter', 'NOUN'), ('also', 'ADV'), ('are', 'VERB'), ('eligible', 'ADJ'), ('for', 'ADP'), ('a', 'DET'), ('sweepstakes', 'VERB'), ('with', 'ADP'), ('Buick', 'NOUN'), ('cars', 'NOUN'), ('or', 'CONJ'), ('a', 'DET'), ('Hawaii', 'NOUN'), ('vacation', 'NOUN'), ('as', 'ADP'), ('prizes', 'VERB'), ('.', '.'), ('In', 'ADP'), ('early', 'ADJ'), ('trading', 'NOUN'), ('in', 'ADP'), ('Hong', 'NOUN'), ('Kong', 'NOUN'), ('Thursday', 'NOUN'), (',', '.'), ('gold', 'NOUN'), ('was', 'VERB'), ('quoted', 'VERB'), ('*-1', 'X'), ('at', 'ADP'), ('$', '.'), ('374.19', 'NUM'), ('*U*', 'X'), ('an', 'DET'), ('ounce', 'NOUN'), ('.', '.')]\n"
     ]
    }
   ],
   "source": [
    "#Viterbi Heuristic\n",
    "def modified_Viterbi_rule_based(words, train_bag = train_tagged_words):\n",
    "    state = []\n",
    "    T = list(set([pair[1] for pair in train_bag]))\n",
    "    \n",
    "    for key, word in enumerate(words):\n",
    "        #initialise list of probability column for a given observation\n",
    "        p = [] \n",
    "        for tag in T:\n",
    "            if key == 0:\n",
    "                transition_p = tags_df.loc['.', tag]\n",
    "            else:\n",
    "                transition_p = tags_df.loc[state[-1], tag]\n",
    "                \n",
    "            # compute emission and state probabilities\n",
    "            emission_p = word_given_tag(words[key], tag)[0]/word_given_tag(words[key], tag)[1]                \n",
    "            state_probability = emission_p * transition_p    \n",
    "            p.append(state_probability)\n",
    "        pmax = max(p)\n",
    "        if pmax == 0.0:       \n",
    "            state_max = rule_based_tagging(word, pattern)\n",
    "            if state_max is None :\n",
    "                state_max = \".\"\n",
    "        else :\n",
    "            state_max = T[p.index(pmax)] \n",
    "        state.append(state_max)\n",
    "    return list(zip(words, state))\n",
    "\n",
    "random.seed(1234)\n",
    "\n",
    "# choose random 5 sents\n",
    "rndom = [random.randint(1,len(test_set)) for x in range(5)]\n",
    "\n",
    "# list of sents\n",
    "test_run = [test_set[i] for i in rndom]\n",
    "\n",
    "# list of tagged words\n",
    "test_run_base = [tup for sent in test_run for tup in sent]\n",
    "\n",
    "# list of untagged words\n",
    "test_tagged_words = [tup[0] for sent in test_run for tup in sent]\n",
    "test_run\n",
    "\n",
    "# tagging the test sentences\n",
    "start = time.time()\n",
    "tagged_seq = modified_Viterbi_rule_based(test_tagged_words)\n",
    "end = time.time()\n",
    "difference = end-start\n",
    "\n",
    "print(\"Time taken in seconds: \", difference)\n",
    "print(tagged_seq)"
   ]
  },
  {
   "cell_type": "code",
   "execution_count": 26,
   "metadata": {},
   "outputs": [
    {
     "name": "stdout",
     "output_type": "stream",
     "text": [
      "0.9285714285714286\n"
     ]
    }
   ],
   "source": [
    "#Accuracy for Rule Based Tagging with Viterbi\n",
    "check = [i for i, j in zip(tagged_seq, test_run_base) if i == j] \n",
    "rulebased_modified_viterbi_accuracy = len(check)/len(tagged_seq)\n",
    "print(rulebased_modified_viterbi_accuracy)"
   ]
  },
  {
   "cell_type": "code",
   "execution_count": 27,
   "metadata": {},
   "outputs": [
    {
     "data": {
      "text/plain": [
       "[[('such', 'ADJ'), (('coaching', 'VERB'), ('coaching', 'NOUN'))],\n",
       " [('can', 'VERB'), (('defeat', 'NOUN'), ('defeat', 'VERB'))],\n",
       " [('which', 'DET'), (('*T*-104', 'NOUN'), ('*T*-104', 'X'))],\n",
       " [('gauge', 'VERB'), (('learning', 'VERB'), ('learning', 'NOUN'))],\n",
       " [('a', 'DET'), (('sweepstakes', 'VERB'), ('sweepstakes', 'NOUN'))],\n",
       " [('as', 'ADP'), (('prizes', 'VERB'), ('prizes', 'NOUN'))],\n",
       " [('In', 'ADP'), (('early', 'ADJ'), ('early', 'ADV'))]]"
      ]
     },
     "execution_count": 27,
     "metadata": {},
     "output_type": "execute_result"
    }
   ],
   "source": [
    "#Incorrectly tagged cases\n",
    "incorrect_tagged_cases2 = [[test_run_base[i-1],j] for i, j in enumerate(zip(tagged_seq, test_run_base)) if j[0]!=j[1]]\n",
    "incorrect_tagged_cases2"
   ]
  },
  {
   "cell_type": "code",
   "execution_count": 28,
   "metadata": {
    "scrolled": true
   },
   "outputs": [
    {
     "name": "stdout",
     "output_type": "stream",
     "text": [
      "Android\n",
      "NOUN\n",
      "Google\n",
      "NOUN\n",
      "Android\n",
      "NOUN\n",
      "OS\n",
      "NOUN\n",
      "worldwide\n",
      "NOUN\n",
      "smartphones\n",
      "VERB\n",
      "2011\n",
      "NUM\n",
      "2013\n",
      "NUM\n",
      "Google\n",
      "NOUN\n",
      "Twitter\n",
      "NOUN\n",
      "2015\n",
      "NUM\n",
      "Google\n",
      "NOUN\n",
      "Twitter\n",
      "NOUN\n",
      "firehose\n",
      "NOUN\n",
      "Twitter\n",
      "NOUN\n",
      "online\n",
      "NOUN\n",
      "interact\n",
      "NOUN\n",
      "messages\n",
      "VERB\n",
      "tweets\n",
      "NOUN\n",
      "domineering\n",
      "VERB\n",
      "personality\n",
      "NOUN\n",
      "2018\n",
      "NUM\n",
      "FIFA\n",
      "NOUN\n",
      "Cup\n",
      "NOUN\n",
      "21st\n",
      "NUM\n",
      "FIFA\n",
      "NOUN\n",
      "Cup\n",
      "NOUN\n",
      "tournament\n",
      "NOUN\n",
      "contested\n",
      "VERB\n",
      "Cup\n",
      "NOUN\n",
      "trips\n",
      "NOUN\n",
      "arriving\n",
      "VERB\n",
      "NASA\n",
      "NOUN\n",
      "invited\n",
      "VERB\n",
      "ICESAT-2\n",
      "NOUN\n",
      "Satellite\n",
      "NOUN\n",
      "[('Android', 'NOUN'), ('is', 'VERB'), ('a', 'DET'), ('mobile', 'ADJ'), ('operating', 'NOUN'), ('system', 'NOUN'), ('developed', 'VERB'), ('by', 'ADP'), ('Google', 'NOUN'), ('.', '.'), ('Android', 'NOUN'), ('has', 'VERB'), ('been', 'VERB'), ('the', 'DET'), ('best-selling', 'ADJ'), ('OS', 'NOUN'), ('worldwide', 'NOUN'), ('on', 'ADP'), ('smartphones', 'VERB'), ('since', 'ADP'), ('2011', 'NUM'), ('and', 'CONJ'), ('on', 'ADP'), ('tablets', 'NOUN'), ('since', 'ADP'), ('2013', 'NUM'), ('.', '.'), ('Google', 'NOUN'), ('and', 'CONJ'), ('Twitter', 'NOUN'), ('made', 'VERB'), ('a', 'DET'), ('deal', 'NOUN'), ('in', 'ADP'), ('2015', 'NUM'), ('that', 'ADP'), ('gave', 'VERB'), ('Google', 'NOUN'), ('access', 'NOUN'), ('to', 'PRT'), ('Twitter', 'NOUN'), (\"'s\", 'PRT'), ('firehose', 'NOUN'), ('.', '.'), ('Twitter', 'NOUN'), ('is', 'VERB'), ('an', 'DET'), ('online', 'NOUN'), ('news', 'NOUN'), ('and', 'CONJ'), ('social', 'ADJ'), ('networking', 'NOUN'), ('service', 'NOUN'), ('on', 'ADP'), ('which', 'DET'), ('users', 'NOUN'), ('post', 'NOUN'), ('and', 'CONJ'), ('interact', 'NOUN'), ('with', 'ADP'), ('messages', 'VERB'), ('known', 'VERB'), ('as', 'ADP'), ('tweets', 'NOUN'), ('.', '.'), ('Before', 'ADP'), ('entering', 'VERB'), ('politics', 'NOUN'), (',', '.'), ('Donald', 'NOUN'), ('Trump', 'NOUN'), ('was', 'VERB'), ('a', 'DET'), ('domineering', 'VERB'), ('businessman', 'NOUN'), ('and', 'CONJ'), ('a', 'DET'), ('television', 'NOUN'), ('personality', 'NOUN'), ('.', '.'), ('The', 'DET'), ('2018', 'NUM'), ('FIFA', 'NOUN'), ('World', 'NOUN'), ('Cup', 'NOUN'), ('is', 'VERB'), ('the', 'DET'), ('21st', 'NUM'), ('FIFA', 'NOUN'), ('World', 'NOUN'), ('Cup', 'NOUN'), (',', '.'), ('an', 'DET'), ('international', 'ADJ'), ('football', 'NOUN'), ('tournament', 'NOUN'), ('contested', 'VERB'), ('once', 'ADV'), ('every', 'DET'), ('four', 'NUM'), ('years', 'NOUN'), ('.', '.'), ('This', 'DET'), ('is', 'VERB'), ('the', 'DET'), ('first', 'ADJ'), ('World', 'NOUN'), ('Cup', 'NOUN'), ('to', 'PRT'), ('be', 'VERB'), ('held', 'VERB'), ('in', 'ADP'), ('Eastern', 'NOUN'), ('Europe', 'NOUN'), ('and', 'CONJ'), ('the', 'DET'), ('11th', 'ADJ'), ('time', 'NOUN'), ('that', 'ADP'), ('it', 'PRON'), ('has', 'VERB'), ('been', 'VERB'), ('held', 'VERB'), ('in', 'ADP'), ('Europe', 'NOUN'), ('.', '.'), ('Show', 'NOUN'), ('me', 'PRON'), ('the', 'DET'), ('cheapest', 'ADJ'), ('round', 'NOUN'), ('trips', 'NOUN'), ('from', 'ADP'), ('Dallas', 'NOUN'), ('to', 'PRT'), ('Atlanta', 'NOUN'), ('I', 'PRON'), ('would', 'VERB'), ('like', 'ADP'), ('to', 'PRT'), ('see', 'VERB'), ('flights', 'NOUN'), ('from', 'ADP'), ('Denver', 'NOUN'), ('to', 'PRT'), ('Philadelphia', 'NOUN'), ('.', '.'), ('Show', 'NOUN'), ('me', 'PRON'), ('the', 'DET'), ('price', 'NOUN'), ('of', 'ADP'), ('the', 'DET'), ('flights', 'NOUN'), ('leaving', 'VERB'), ('Atlanta', 'NOUN'), ('at', 'ADP'), ('about', 'ADP'), ('3', 'NUM'), ('in', 'ADP'), ('the', 'DET'), ('afternoon', 'NOUN'), ('and', 'CONJ'), ('arriving', 'VERB'), ('in', 'ADP'), ('San', 'NOUN'), ('Francisco', 'NOUN'), ('.', '.'), ('NASA', 'NOUN'), ('invited', 'VERB'), ('social', 'ADJ'), ('media', 'NOUN'), ('users', 'NOUN'), ('to', 'PRT'), ('experience', 'NOUN'), ('the', 'DET'), ('launch', 'NOUN'), ('of', 'ADP'), ('ICESAT-2', 'NOUN'), ('Satellite', 'NOUN'), ('.', '.')]\n",
      "35.215370655059814\n"
     ]
    }
   ],
   "source": [
    "#Running on the sample text file\n",
    "sentence_test = open('Test_sentences.txt',mode='r').read()\n",
    "words = word_tokenize(sentence_test)\n",
    "\n",
    "start = time.time()\n",
    "tagged_seq = modified_Viterbi_rule_based(words)\n",
    "end = time.time()\n",
    "difference = end-start\n",
    "\n",
    "print(tagged_seq)\n",
    "print(difference)\n",
    "rulebased_test_tagged_seq = tagged_seq"
   ]
  },
  {
   "cell_type": "markdown",
   "metadata": {},
   "source": [
    "##### Modification 2 : Lexicon Based Tagging with Viterbi"
   ]
  },
  {
   "cell_type": "code",
   "execution_count": 29,
   "metadata": {},
   "outputs": [],
   "source": [
    "def bigram_tagger(wording) :\n",
    "    t0 = DefaultTagger('NOUN')\n",
    "    t1 = UnigramTagger(train_set, backoff=t0)\n",
    "    t2 = BigramTagger(train_set, backoff=t1)\n",
    "    listvalue=t2.tag(nltk.word_tokenize(wording))\n",
    "    return listvalue[0][1]"
   ]
  },
  {
   "cell_type": "code",
   "execution_count": 30,
   "metadata": {},
   "outputs": [
    {
     "data": {
      "text/plain": [
       "0.9075853608668983"
      ]
     },
     "execution_count": 30,
     "metadata": {},
     "output_type": "execute_result"
    }
   ],
   "source": [
    "unigram_tagger = nltk.UnigramTagger(train_set)\n",
    "unigram_tagger.evaluate(test_set)"
   ]
  },
  {
   "cell_type": "code",
   "execution_count": 31,
   "metadata": {},
   "outputs": [
    {
     "name": "stdout",
     "output_type": "stream",
     "text": [
      "coaching\n",
      "VERB\n",
      "aids\n",
      "NOUN\n",
      "*T*-104\n",
      "NOUN\n",
      "learning\n",
      "VERB\n",
      "Card\n",
      "NOUN\n",
      "sweepstakes\n",
      "VERB\n",
      "prizes\n",
      "VERB\n",
      "374.19\n",
      "NUM\n",
      "Time taken in seconds:  20.055511474609375\n",
      "[('He', 'PRON'), ('and', 'CONJ'), ('other', 'ADJ'), ('critics', 'NOUN'), ('say', 'VERB'), ('0', 'X'), ('such', 'ADJ'), ('coaching', 'VERB'), ('aids', 'NOUN'), ('can', 'VERB'), ('defeat', 'NOUN'), ('the', 'DET'), ('purpose', 'NOUN'), ('of', 'ADP'), ('standardized', 'ADJ'), ('tests', 'NOUN'), (',', '.'), ('which', 'DET'), ('*T*-104', 'NOUN'), ('is', 'VERB'), ('*', 'X'), ('to', 'PRT'), ('gauge', 'VERB'), ('learning', 'VERB'), ('progress', 'NOUN'), ('.', '.'), ('Many', 'ADJ'), ('colleagues', 'NOUN'), ('are', 'VERB'), ('angry', 'ADJ'), ('at', 'ADP'), ('Mrs.', 'NOUN'), ('Yeargin', 'NOUN'), ('.', '.'), ('``', '.'), ('In', 'ADP'), ('Asia', 'NOUN'), (',', '.'), ('as', 'ADP'), ('in', 'ADP'), ('Europe', 'NOUN'), (',', '.'), ('a', 'DET'), ('new', 'ADJ'), ('order', 'NOUN'), ('is', 'VERB'), ('taking', 'VERB'), ('shape', 'NOUN'), (',', '.'), (\"''\", '.'), ('Mr.', 'NOUN'), ('Baker', 'NOUN'), ('said', 'VERB'), ('0', 'X'), ('*T*-1', 'X'), ('.', '.'), ('Card', 'NOUN'), ('holders', 'NOUN'), ('who', 'PRON'), ('*T*-59', 'X'), ('receive', 'VERB'), ('the', 'DET'), ('letter', 'NOUN'), ('also', 'ADV'), ('are', 'VERB'), ('eligible', 'ADJ'), ('for', 'ADP'), ('a', 'DET'), ('sweepstakes', 'VERB'), ('with', 'ADP'), ('Buick', 'NOUN'), ('cars', 'NOUN'), ('or', 'CONJ'), ('a', 'DET'), ('Hawaii', 'NOUN'), ('vacation', 'NOUN'), ('as', 'ADP'), ('prizes', 'VERB'), ('.', '.'), ('In', 'ADP'), ('early', 'ADJ'), ('trading', 'NOUN'), ('in', 'ADP'), ('Hong', 'NOUN'), ('Kong', 'NOUN'), ('Thursday', 'NOUN'), (',', '.'), ('gold', 'NOUN'), ('was', 'VERB'), ('quoted', 'VERB'), ('*-1', 'X'), ('at', 'ADP'), ('$', '.'), ('374.19', 'NUM'), ('*U*', 'X'), ('an', 'DET'), ('ounce', 'NOUN'), ('.', '.')]\n"
     ]
    }
   ],
   "source": [
    "#Viterbi Heuristic\n",
    "def modified_Viterbi_lexicon_based(words, train_bag = train_tagged_words):\n",
    "    state = []\n",
    "    T = list(set([pair[1] for pair in train_bag]))\n",
    "    \n",
    "    for key, word in enumerate(words):\n",
    "        #initialise list of probability column for a given observation\n",
    "        p = [] \n",
    "        for tag in T:\n",
    "            if key == 0:\n",
    "                transition_p = tags_df.loc['.', tag]\n",
    "            else:\n",
    "                transition_p = tags_df.loc[state[-1], tag]\n",
    "                \n",
    "            # compute emission and state probabilities\n",
    "            emission_p = word_given_tag(words[key], tag)[0]/word_given_tag(words[key], tag)[1]                \n",
    "            state_probability = emission_p * transition_p    \n",
    "            p.append(state_probability)\n",
    "        pmax = max(p)\n",
    "        if pmax == 0.0:       \n",
    "            state_max = rule_based_tagging(word, pattern)\n",
    "            if state_max is None :\n",
    "                state_max = \".\"\n",
    "        else :\n",
    "            state_max = T[p.index(pmax)] \n",
    "        state.append(state_max)\n",
    "    return list(zip(words, state))\n",
    "\n",
    "random.seed(1234)\n",
    "\n",
    "# choose random 5 sents\n",
    "rndom = [random.randint(1,len(test_set)) for x in range(5)]\n",
    "\n",
    "# list of sents\n",
    "test_run = [test_set[i] for i in rndom]\n",
    "\n",
    "# list of tagged words\n",
    "test_run_base = [tup for sent in test_run for tup in sent]\n",
    "\n",
    "# list of untagged words\n",
    "test_tagged_words = [tup[0] for sent in test_run for tup in sent]\n",
    "test_run\n",
    "\n",
    "# tagging the test sentences\n",
    "start = time.time()\n",
    "tagged_seq = modified_Viterbi_lexicon_based(test_tagged_words)\n",
    "end = time.time()\n",
    "difference = end-start\n",
    "\n",
    "print(\"Time taken in seconds: \", difference)\n",
    "print(tagged_seq)"
   ]
  },
  {
   "cell_type": "code",
   "execution_count": 32,
   "metadata": {},
   "outputs": [
    {
     "name": "stdout",
     "output_type": "stream",
     "text": [
      "0.9285714285714286\n"
     ]
    }
   ],
   "source": [
    "#Accuracy for Lexicon Based Tagging with Viterbi\n",
    "check = [i for i, j in zip(tagged_seq, test_run_base) if i == j] \n",
    "lexicon_based_viterbi_accuracy = len(check)/len(tagged_seq)\n",
    "print(lexicon_based_viterbi_accuracy)"
   ]
  },
  {
   "cell_type": "code",
   "execution_count": 33,
   "metadata": {},
   "outputs": [
    {
     "data": {
      "text/plain": [
       "[[('such', 'ADJ'), (('coaching', 'VERB'), ('coaching', 'NOUN'))],\n",
       " [('can', 'VERB'), (('defeat', 'NOUN'), ('defeat', 'VERB'))],\n",
       " [('which', 'DET'), (('*T*-104', 'NOUN'), ('*T*-104', 'X'))],\n",
       " [('gauge', 'VERB'), (('learning', 'VERB'), ('learning', 'NOUN'))],\n",
       " [('a', 'DET'), (('sweepstakes', 'VERB'), ('sweepstakes', 'NOUN'))],\n",
       " [('as', 'ADP'), (('prizes', 'VERB'), ('prizes', 'NOUN'))],\n",
       " [('In', 'ADP'), (('early', 'ADJ'), ('early', 'ADV'))]]"
      ]
     },
     "execution_count": 33,
     "metadata": {},
     "output_type": "execute_result"
    }
   ],
   "source": [
    "#Incorrectly tagged cases\n",
    "incorrect_tagged_cases3 = [[test_run_base[i-1],j] for i, j in enumerate(zip(tagged_seq, test_run_base)) if j[0]!=j[1]]\n",
    "incorrect_tagged_cases3"
   ]
  },
  {
   "cell_type": "code",
   "execution_count": 34,
   "metadata": {},
   "outputs": [
    {
     "name": "stdout",
     "output_type": "stream",
     "text": [
      "Android\n",
      "NOUN\n",
      "Google\n",
      "NOUN\n",
      "Android\n",
      "NOUN\n",
      "OS\n",
      "NOUN\n",
      "worldwide\n",
      "NOUN\n",
      "smartphones\n",
      "VERB\n",
      "2011\n",
      "NUM\n",
      "2013\n",
      "NUM\n",
      "Google\n",
      "NOUN\n",
      "Twitter\n",
      "NOUN\n",
      "2015\n",
      "NUM\n",
      "Google\n",
      "NOUN\n",
      "Twitter\n",
      "NOUN\n",
      "firehose\n",
      "NOUN\n",
      "Twitter\n",
      "NOUN\n",
      "online\n",
      "NOUN\n",
      "interact\n",
      "NOUN\n",
      "messages\n",
      "VERB\n",
      "tweets\n",
      "NOUN\n",
      "domineering\n",
      "VERB\n",
      "personality\n",
      "NOUN\n",
      "2018\n",
      "NUM\n",
      "FIFA\n",
      "NOUN\n",
      "Cup\n",
      "NOUN\n",
      "21st\n",
      "NUM\n",
      "FIFA\n",
      "NOUN\n",
      "Cup\n",
      "NOUN\n",
      "tournament\n",
      "NOUN\n",
      "contested\n",
      "VERB\n",
      "Cup\n",
      "NOUN\n",
      "trips\n",
      "NOUN\n",
      "arriving\n",
      "VERB\n",
      "NASA\n",
      "NOUN\n",
      "invited\n",
      "VERB\n",
      "ICESAT-2\n",
      "NOUN\n",
      "Satellite\n",
      "NOUN\n",
      "[('Android', 'NOUN'), ('is', 'VERB'), ('a', 'DET'), ('mobile', 'ADJ'), ('operating', 'NOUN'), ('system', 'NOUN'), ('developed', 'VERB'), ('by', 'ADP'), ('Google', 'NOUN'), ('.', '.'), ('Android', 'NOUN'), ('has', 'VERB'), ('been', 'VERB'), ('the', 'DET'), ('best-selling', 'ADJ'), ('OS', 'NOUN'), ('worldwide', 'NOUN'), ('on', 'ADP'), ('smartphones', 'VERB'), ('since', 'ADP'), ('2011', 'NUM'), ('and', 'CONJ'), ('on', 'ADP'), ('tablets', 'NOUN'), ('since', 'ADP'), ('2013', 'NUM'), ('.', '.'), ('Google', 'NOUN'), ('and', 'CONJ'), ('Twitter', 'NOUN'), ('made', 'VERB'), ('a', 'DET'), ('deal', 'NOUN'), ('in', 'ADP'), ('2015', 'NUM'), ('that', 'ADP'), ('gave', 'VERB'), ('Google', 'NOUN'), ('access', 'NOUN'), ('to', 'PRT'), ('Twitter', 'NOUN'), (\"'s\", 'PRT'), ('firehose', 'NOUN'), ('.', '.'), ('Twitter', 'NOUN'), ('is', 'VERB'), ('an', 'DET'), ('online', 'NOUN'), ('news', 'NOUN'), ('and', 'CONJ'), ('social', 'ADJ'), ('networking', 'NOUN'), ('service', 'NOUN'), ('on', 'ADP'), ('which', 'DET'), ('users', 'NOUN'), ('post', 'NOUN'), ('and', 'CONJ'), ('interact', 'NOUN'), ('with', 'ADP'), ('messages', 'VERB'), ('known', 'VERB'), ('as', 'ADP'), ('tweets', 'NOUN'), ('.', '.'), ('Before', 'ADP'), ('entering', 'VERB'), ('politics', 'NOUN'), (',', '.'), ('Donald', 'NOUN'), ('Trump', 'NOUN'), ('was', 'VERB'), ('a', 'DET'), ('domineering', 'VERB'), ('businessman', 'NOUN'), ('and', 'CONJ'), ('a', 'DET'), ('television', 'NOUN'), ('personality', 'NOUN'), ('.', '.'), ('The', 'DET'), ('2018', 'NUM'), ('FIFA', 'NOUN'), ('World', 'NOUN'), ('Cup', 'NOUN'), ('is', 'VERB'), ('the', 'DET'), ('21st', 'NUM'), ('FIFA', 'NOUN'), ('World', 'NOUN'), ('Cup', 'NOUN'), (',', '.'), ('an', 'DET'), ('international', 'ADJ'), ('football', 'NOUN'), ('tournament', 'NOUN'), ('contested', 'VERB'), ('once', 'ADV'), ('every', 'DET'), ('four', 'NUM'), ('years', 'NOUN'), ('.', '.'), ('This', 'DET'), ('is', 'VERB'), ('the', 'DET'), ('first', 'ADJ'), ('World', 'NOUN'), ('Cup', 'NOUN'), ('to', 'PRT'), ('be', 'VERB'), ('held', 'VERB'), ('in', 'ADP'), ('Eastern', 'NOUN'), ('Europe', 'NOUN'), ('and', 'CONJ'), ('the', 'DET'), ('11th', 'ADJ'), ('time', 'NOUN'), ('that', 'ADP'), ('it', 'PRON'), ('has', 'VERB'), ('been', 'VERB'), ('held', 'VERB'), ('in', 'ADP'), ('Europe', 'NOUN'), ('.', '.'), ('Show', 'NOUN'), ('me', 'PRON'), ('the', 'DET'), ('cheapest', 'ADJ'), ('round', 'NOUN'), ('trips', 'NOUN'), ('from', 'ADP'), ('Dallas', 'NOUN'), ('to', 'PRT'), ('Atlanta', 'NOUN'), ('I', 'PRON'), ('would', 'VERB'), ('like', 'ADP'), ('to', 'PRT'), ('see', 'VERB'), ('flights', 'NOUN'), ('from', 'ADP'), ('Denver', 'NOUN'), ('to', 'PRT'), ('Philadelphia', 'NOUN'), ('.', '.'), ('Show', 'NOUN'), ('me', 'PRON'), ('the', 'DET'), ('price', 'NOUN'), ('of', 'ADP'), ('the', 'DET'), ('flights', 'NOUN'), ('leaving', 'VERB'), ('Atlanta', 'NOUN'), ('at', 'ADP'), ('about', 'ADP'), ('3', 'NUM'), ('in', 'ADP'), ('the', 'DET'), ('afternoon', 'NOUN'), ('and', 'CONJ'), ('arriving', 'VERB'), ('in', 'ADP'), ('San', 'NOUN'), ('Francisco', 'NOUN'), ('.', '.'), ('NASA', 'NOUN'), ('invited', 'VERB'), ('social', 'ADJ'), ('media', 'NOUN'), ('users', 'NOUN'), ('to', 'PRT'), ('experience', 'NOUN'), ('the', 'DET'), ('launch', 'NOUN'), ('of', 'ADP'), ('ICESAT-2', 'NOUN'), ('Satellite', 'NOUN'), ('.', '.')]\n",
      "38.70523524284363\n"
     ]
    }
   ],
   "source": [
    "#Running on the sample text file\n",
    "sentence_test = open('Test_sentences.txt',mode='r').read()\n",
    "words = word_tokenize(sentence_test)\n",
    "\n",
    "start = time.time()\n",
    "tagged_seq = modified_Viterbi_lexicon_based(words)\n",
    "end = time.time()\n",
    "difference = end-start\n",
    "\n",
    "print(tagged_seq)\n",
    "print(difference)\n",
    "lexicon_test_tagged_seq = tagged_seq"
   ]
  },
  {
   "cell_type": "markdown",
   "metadata": {},
   "source": [
    "### Compare the tagging accuracies of the modifications with the vanilla Viterbi algorithm"
   ]
  },
  {
   "cell_type": "code",
   "execution_count": 35,
   "metadata": {},
   "outputs": [
    {
     "name": "stdout",
     "output_type": "stream",
     "text": [
      "Vannila Viterbi Accuracy: 0.9081632653061225\n",
      "Rule Based Viterbi Accuracy: 0.9285714285714286\n",
      "Lexicon Based Viterbi Accuracy: 0.9285714285714286\n"
     ]
    }
   ],
   "source": [
    "print(\"Vannila Viterbi Accuracy: \"+ str(vannila_viterbi_accuracy))\n",
    "print(\"Rule Based Viterbi Accuracy: \"+ str(rulebased_modified_viterbi_accuracy))\n",
    "print(\"Lexicon Based Viterbi Accuracy: \"+ str(lexicon_based_viterbi_accuracy))"
   ]
  },
  {
   "cell_type": "markdown",
   "metadata": {},
   "source": [
    "##### Lexicon Based Viterbi & Rule Based Viterbi 's accuracy are greater than Plain Vannila Viterbi's accuracy"
   ]
  },
  {
   "cell_type": "markdown",
   "metadata": {},
   "source": [
    "### List down cases which were incorrectly tagged by original POS tagger and got corrected by your modifications"
   ]
  },
  {
   "cell_type": "code",
   "execution_count": 36,
   "metadata": {},
   "outputs": [
    {
     "data": {
      "text/plain": [
       "[[('such', 'ADJ'), (('coaching', 'X'), ('coaching', 'NOUN'))],\n",
       " [('coaching', 'NOUN'), (('aids', 'X'), ('aids', 'NOUN'))],\n",
       " [('can', 'VERB'), (('defeat', 'NOUN'), ('defeat', 'VERB'))],\n",
       " [('gauge', 'VERB'), (('learning', 'X'), ('learning', 'NOUN'))],\n",
       " [('.', '.'), (('Card', 'X'), ('Card', 'NOUN'))],\n",
       " [('a', 'DET'), (('sweepstakes', 'X'), ('sweepstakes', 'NOUN'))],\n",
       " [('as', 'ADP'), (('prizes', 'X'), ('prizes', 'NOUN'))],\n",
       " [('In', 'ADP'), (('early', 'ADJ'), ('early', 'ADV'))],\n",
       " [('$', '.'), (('374.19', 'X'), ('374.19', 'NUM'))]]"
      ]
     },
     "execution_count": 36,
     "metadata": {},
     "output_type": "execute_result"
    }
   ],
   "source": [
    "#Vanilla vertirbi :\n",
    "incorrect_tagged_cases1"
   ]
  },
  {
   "cell_type": "code",
   "execution_count": 37,
   "metadata": {},
   "outputs": [
    {
     "data": {
      "text/plain": [
       "[[('such', 'ADJ'), (('coaching', 'VERB'), ('coaching', 'NOUN'))],\n",
       " [('can', 'VERB'), (('defeat', 'NOUN'), ('defeat', 'VERB'))],\n",
       " [('which', 'DET'), (('*T*-104', 'NOUN'), ('*T*-104', 'X'))],\n",
       " [('gauge', 'VERB'), (('learning', 'VERB'), ('learning', 'NOUN'))],\n",
       " [('a', 'DET'), (('sweepstakes', 'VERB'), ('sweepstakes', 'NOUN'))],\n",
       " [('as', 'ADP'), (('prizes', 'VERB'), ('prizes', 'NOUN'))],\n",
       " [('In', 'ADP'), (('early', 'ADJ'), ('early', 'ADV'))]]"
      ]
     },
     "execution_count": 37,
     "metadata": {},
     "output_type": "execute_result"
    }
   ],
   "source": [
    "#Rule Based viterbi :\n",
    "incorrect_tagged_cases2"
   ]
  },
  {
   "cell_type": "code",
   "execution_count": 38,
   "metadata": {},
   "outputs": [
    {
     "data": {
      "text/plain": [
       "[[('such', 'ADJ'), (('coaching', 'VERB'), ('coaching', 'NOUN'))],\n",
       " [('can', 'VERB'), (('defeat', 'NOUN'), ('defeat', 'VERB'))],\n",
       " [('which', 'DET'), (('*T*-104', 'NOUN'), ('*T*-104', 'X'))],\n",
       " [('gauge', 'VERB'), (('learning', 'VERB'), ('learning', 'NOUN'))],\n",
       " [('a', 'DET'), (('sweepstakes', 'VERB'), ('sweepstakes', 'NOUN'))],\n",
       " [('as', 'ADP'), (('prizes', 'VERB'), ('prizes', 'NOUN'))],\n",
       " [('In', 'ADP'), (('early', 'ADJ'), ('early', 'ADV'))]]"
      ]
     },
     "execution_count": 38,
     "metadata": {},
     "output_type": "execute_result"
    }
   ],
   "source": [
    "#Lexicon Based viterbi :\n",
    "incorrect_tagged_cases3"
   ]
  }
 ],
 "metadata": {
  "kernelspec": {
   "display_name": "Python 3",
   "language": "python",
   "name": "python3"
  },
  "language_info": {
   "codemirror_mode": {
    "name": "ipython",
    "version": 3
   },
   "file_extension": ".py",
   "mimetype": "text/x-python",
   "name": "python",
   "nbconvert_exporter": "python",
   "pygments_lexer": "ipython3",
   "version": "3.7.7"
  }
 },
 "nbformat": 4,
 "nbformat_minor": 2
}
